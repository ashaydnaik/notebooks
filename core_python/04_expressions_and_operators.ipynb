{
 "cells": [
  {
   "cell_type": "markdown",
   "metadata": {},
   "source": [
    "An expression is a “phrase” of code, which Python evaluates to produce a value. \n",
    "\n",
    "Simplest expressions are literals and identifiers. <br>\n",
    "Join subexpressions with operators and/or delimiters listed below to build other expressions.\n",
    "\n",
    "Operators given in decreasing order of precedence. Operators listed together have same precedence. \n",
    "\n",
    "Third column lists associativity of operator: L (left-to-right), R (right-to-left), NA (non-associative).\n",
    "\n",
    "\n",
    "|Operator|Description|Associativity|\n",
    "|:-------|:----------|:------------|\n",
    "| {key:expr,...} | Dictionary creation | NA | \n",
    "| {expr,...} | Set creation | NA | \n",
    "| \\[expr,...\\] |  List creation | NA | \n",
    "| (expr,...) |  Tuple creation or just parentheses  | NA | \n",
    "| f(expr,...) | Function call | L | \n",
    "| x\\[ index : index \\] | Slicing | L | \n",
    "| x\\[ index \\] | Indexing | L | \n",
    "| x.attr | Attribute reference | L | \n",
    "| x\\*\\*y |  Exponentiation (x to the yth power) | R | \n",
    "| ~x |  Bitwise NOT | NA | \n",
    "| +x, -x | Unary plus and minus | NA | \n",
    "| x\\*y, x/y, x//y, x%y | Multiplication, division, truncating division, remainder  | L | \n",
    "| x+y, x-y  | Addition, subtraction | L | \n",
    "| x<<y, x>>y  | Left-shift, right-shift  | L | \n",
    "| x&y  | Bitwise AND | L | \n",
    "| x^y | Bitwise XOR | L | \n",
    "| x\\|y |  Bitwise OR | L | \n",
    "| x<y, x<=y, x>y, x>=y, x<>y, x!=y, x==y | Comparisons (less than, less than or equal, greater than, greater than or equal, inequality, equality) | NA | \n",
    "| x is y, x is not y  | Identity tests | NA | \n",
    "| x in y, x not in y  | Membership tests | NA | \n",
    "| not x  | Boolean NOT | NA | \n",
    "| x and y  | Boolean AND | L | \n",
    "| x or y | Boolean OR | L | \n",
    "| x if expr else y | Ternary operator  | NA | \n",
    "| lambda arg, ... : expr  | Anonymous simple function | NA | "
   ]
  },
  {
   "cell_type": "markdown",
   "metadata": {},
   "source": [
    "In v2, <> and != are alternate forms of the same operator. <br>\n",
    "!= is the preferred version; <> is obsolete, and not supported in v3.\n",
    "\n",
    "In the above table: \n",
    "* expr, key, f, index, x, y indicate any expression\n",
    "* attr, arg indicate any identifier\n",
    "* notation ,... means commas join zero or more repetitions; a trailing comma is optional and innocuous."
   ]
  },
  {
   "cell_type": "markdown",
   "metadata": {},
   "source": [
    "## comparison chaining\n",
    "\n",
    "You can chain comparisons, implying a logical and. For example:<br>\n",
    "``a<b <= c<d`` <br>\n",
    "has the same meaning as: <br>\n",
    "``a<b and b<=c and c<d ``\n",
    "\n",
    "The chained form is more readable, and evaluates each subexpression at most once. Note that ``a!=b!=c`` does not imply ``a!=c``, just like the longer-form equivalent expression ``a!=b`` and ``b!=c`` wouldn’t.\n",
    "\n",
    "## Short-Circuiting Operators\n",
    "\n",
    "The ``and`` and ``or`` operators short-circuit their operands’ evaluation: the righthand operand evaluates only when its value is necessary to get the truth value of the entire and or or operation.\n",
    "\n",
    "In other words, ``x and y`` first evaluates x. When x is false, the result is x; otherwise, the result is y. Similarly, ``x or y`` first evaluates x. When x is true, the result is x; otherwise, the result is y.\n",
    "\n",
    "``and`` and ``or`` don’t force their results to be True or False, but rather return one or the other of their operands. This lets you use these operators more generally, not just in Boolean contexts. \n",
    "\n",
    "``and`` and ``or``, because of their short-circuiting semantics, differ from other operators, which fully evaluate all operands before performing the operation. \n",
    "\n",
    "``and`` and ``or`` let the left operand act as a guard for the right operand.\n",
    "\n",
    "### The ternary operator\n",
    "\n",
    "Another short-circuiting operator is the ternary operator if/else: \n",
    "\n",
    "``whentrue if condition else whenfalse``\n",
    "\n",
    "Each of whentrue, whenfalse, and condition is an arbitrary expression. condition evaluates first. When condition is true, the result is whentrue; otherwise, the result is whenfalse. Only one of the subexpressions whentrue and whenfalse evaluates, depending on the truth value of condition.\n",
    "\n",
    "The order of the subexpressions in this ternary operator may be a bit confusing. The recommended style is to always place parentheses around the whole expression."
   ]
  },
  {
   "cell_type": "code",
   "execution_count": null,
   "metadata": {},
   "outputs": [],
   "source": []
  }
 ],
 "metadata": {
  "kernelspec": {
   "display_name": "Python 3",
   "language": "python",
   "name": "python3"
  },
  "language_info": {
   "codemirror_mode": {
    "name": "ipython",
    "version": 3
   },
   "file_extension": ".py",
   "mimetype": "text/x-python",
   "name": "python",
   "nbconvert_exporter": "python",
   "pygments_lexer": "ipython3",
   "version": "3.8.5"
  },
  "toc": {
   "base_numbering": 1,
   "nav_menu": {},
   "number_sections": true,
   "sideBar": true,
   "skip_h1_title": false,
   "title_cell": "Table of Contents",
   "title_sidebar": "Contents",
   "toc_cell": false,
   "toc_position": {},
   "toc_section_display": true,
   "toc_window_display": false
  }
 },
 "nbformat": 4,
 "nbformat_minor": 4
}
