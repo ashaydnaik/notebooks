{
 "cells": [
  {
   "cell_type": "markdown",
   "metadata": {},
   "source": [
    "Python offers the usual numeric operations. \n",
    "\n",
    "Numbers are immutable objects: when you perform operations on number objects, you produce a new number object, never modify existing ones. \n",
    "\n",
    "You can access the parts of a complex object z as read-only attributes ``z.real`` and ``z.imag``. Trying to rebind these attributes raises an exception.\n",
    "\n",
    "A number’s optional + or - sign, and the + that joins a floating-point literal to an imaginary one to make a complex number, is not part of the literals’ syntax. They are ordinary operators, subject to normal operator precedence rules. For example, ``-2**2`` evaluates to ``-4``: exponentiation has higher precedence than unary minus.\n",
    "\n",
    "# numeric conversions\n",
    "\n",
    "You can perform arithmetic operations and comparisons between any two numbers of Python built-in types. If the operands’ types differ, coercion applies: Python converts the operand with the “smaller” type to the “larger” type. The types, in order from smallest to largest, are integers, floating-point numbers, and complex numbers. \n",
    "\n",
    "You can request an explicit conversion by passing a noncomplex numeric argument to any of the built-in number types: int, float, complex. int drops its argument’s fractional part, if any (e.g., ``int(9.8)`` is ``9``). You can also call complex with two numeric arguments, giving real and imaginary parts. You cannot convert a complex to another numeric type in this way, because there is no single unambiguous way to convert a complex number into, for example, a float.\n",
    "\n",
    "You can also call each built-in numeric type with a string argument with the syntax of an appropriate numeric literal, with small extensions: the argument string may have leading and/or trailing whitespace, may start with a sign, and — for complex numbers — may sum or subtract a real part and an imaginary one. \n",
    "\n",
    "``int`` can also be called with two arguments: the first one a string to convert, and the second the radix, an integer between 2 and 36 to use as the base for the conversion (e.g., ``int('101', 2)`` returns ``5``, the value of '101' in base 2). For radices larger than 10, the appropriate subset of letters from the start of the alphabet (in either lower- or uppercase) are the extra needed “digits.”\n",
    "\n",
    "# arithmetic operations\n",
    "\n",
    "Python arithmetic operations behave in rather obvious ways, with the possible exception of division and exponentiation.\n",
    "\n",
    "## division\n",
    "\n",
    "If the right operand of /, //, or % is 0, Python raises a runtime exception. <br>\n",
    "The // operator performs truncating division, which means it returns an integer result (converted to the same type as the wider operand) and ignores the remainder, if any. <br>\n",
    "When both operands are integers: \n",
    "* in v3, the / operator performs true division, returning a floating-point result (or a complex result if either operand is a complex number); \n",
    "* in v2, / performs truncating division, like //. \n",
    "To perform truncating division in v3, use //. <br>\n",
    "To have / perform true division on integer operands in v2, use option -Qnew on the Python command line (not recommended), or, better, begin your source file or interactive session with the statement: \n",
    "\n",
    "``from __future__ import division``\n",
    "\n",
    "This statement ensures that the operator / (within the module that starts with this\n",
    "statement) works without truncation on operands of any type.\n",
    "\n",
    "To ensure that the behavior of division does not depend on the exact version of Python you’re using, always use // when you want truncating division. When you do not want truncation, use /, but also ensure that at least one operand is not an integer. \n",
    "\n",
    "For example, instead of using just ``a/b``, code ``1.0*a/b`` (``float(a)/b`` is marginally slower, and fails when a is complex) to avoid making any assumption on the types of a and b. \n",
    "\n",
    "To check whether your v2 program has version dependencies in its use of division, use the option -Qwarn on the Python command line to get runtime warnings about uses of / on integer operands.\n",
    "\n",
    "The built-in ``divmod`` function takes two numeric arguments and returns a pair whose items are the quotient and remainder, so you don’t have to use both // for the quotient and % for the remainder.\n",
    "\n",
    "## exponentiation\n",
    "\n",
    "The exponentiation (“raise to power”) operation, ``a**b``, in v2, raises an exception when a is less than zero and b is a floating-point value with a nonzero fractional part, but, in v3, it returns the appropriate complex number in such cases.\n",
    "\n",
    "The built-in ``pow(a, b)`` function returns the same result as ``a**b``. With three arguments, ``pow(a, b, c)`` returns the same result as ``(a**b)%c`` but is faster."
   ]
  },
  {
   "cell_type": "markdown",
   "metadata": {},
   "source": [
    "# comparison\n",
    "\n",
    "All objects, including numbers, can be compared for equality (==) and inequality (!=). \n",
    "\n",
    "Comparisons requiring order (<, <=, >, >=) may be used between any two numbers, unless either operand is complex, in which case they raise runtime exceptions. All these operators return Boolean values (True or False). \n",
    "\n",
    "Beware comparing floating-point numbers for equality, as the online tutorial explains.\n",
    "\n",
    "# bitwise operations on integers\n",
    "\n",
    "Integers can be interpreted as strings of bits and used with the bitwise operations. Bitwise operators have lower priority than arithmetic operators. Positive integers are conceptually extended by an unbounded string of 0 bits on the left. Negative integers, as they’re held in two’s complement representation, are conceptually extended by an unbounded string of 1 bits on the left."
   ]
  }
 ],
 "metadata": {
  "kernelspec": {
   "display_name": "Python 3",
   "language": "python",
   "name": "python3"
  },
  "language_info": {
   "codemirror_mode": {
    "name": "ipython",
    "version": 3
   },
   "file_extension": ".py",
   "mimetype": "text/x-python",
   "name": "python",
   "nbconvert_exporter": "python",
   "pygments_lexer": "ipython3",
   "version": "3.8.5"
  },
  "toc": {
   "base_numbering": 1,
   "nav_menu": {},
   "number_sections": true,
   "sideBar": true,
   "skip_h1_title": false,
   "title_cell": "Table of Contents",
   "title_sidebar": "Contents",
   "toc_cell": false,
   "toc_position": {},
   "toc_section_display": true,
   "toc_window_display": false
  }
 },
 "nbformat": 4,
 "nbformat_minor": 4
}
