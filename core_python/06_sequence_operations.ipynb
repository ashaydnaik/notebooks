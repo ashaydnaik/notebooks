{
 "cells": [
  {
   "cell_type": "markdown",
   "metadata": {},
   "source": [
    "Python supports a variety of operations applicable to all sequences, including strings, lists, and tuples. <br> Some sequence operations:\n",
    "* apply to all containers (including sets and dictionaries, which are not sequences); \n",
    "* apply to all iterables (meaning “any object over which you can loop”; all containers, be they sequences or not, are iterable, and so are many objects that are not containers, such as files and generators). "
   ]
  },
  {
   "cell_type": "markdown",
   "metadata": {},
   "source": [
    "# Sequences in General\n",
    "\n",
    "Sequences are ordered containers with items that are accessible by indexing and slicing. \n",
    "* The built-in ``len`` function takes any container as an argument and returns the number of items in the container. \n",
    "* The built-in ``min`` and ``max`` functions take one argument, a nonempty iterable whose items are comparable, and return the smallest and largest items, respectively. You can also call ``min`` and ``max`` with multiple arguments, in which case they return the smallest and largest arguments, respectively. \n",
    "* The built-in ``sum`` function takes one argument, an iterable whose items are numbers, and returns the sum of the numbers.\n",
    "\n",
    "## Sequence conversions\n",
    "\n",
    "There is no implicit conversion between different sequence types except that Python, in v2 only, converts byte strings to Unicode strings if needed. \n",
    "* You can call the built-ins ``tuple`` and ``list`` with a single argument (any iterable) to get a new instance of the type you’re calling, with the same items, in the same order, as in the argument.\n",
    "\n",
    "## Concatenation and repetition\n",
    "\n",
    "* You can concatenate sequences of the same type with the ``+`` operator. \n",
    "* You can multiply a sequence ``S`` by an integer ``n`` with the ``*`` operator. ``S*n`` or ``n*S`` is the concatenation of ``n`` copies of ``S``. When ``n<=0``, ``S*n`` is an empty sequence of the same type as ``S``.\n",
    "\n",
    "## Membership testing\n",
    "\n",
    "* The ``x in S`` operator tests to check whether object ``x`` equals any item in the sequence (or other kind of container or iterable) ``S``. It returns ``True`` when it does and ``False`` when it doesn’t. \n",
    "* The ``x not in S`` operator is equivalent to ``not (x in S)``. \n",
    "* For dictionaries, ``x in S`` tests for the presence of ``x`` as a ``key``. \n",
    "* In the specific case of strings, though, ``x in S`` is more widely applicable; in this case, ``x in S`` tests whether ``x`` equals any substring of ``S``, not just any single character.\n",
    "\n",
    "## Indexing a sequence\n",
    "\n",
    "To denote the ``nth`` item of a sequence ``S``, use an indexing: ``S[n]``. \n",
    "Indexing is zero-based (``S``’s first item is ``S[0]``). \n",
    "If ``S`` has ``L`` items, the index ``n`` may be ``0, 1...`` up to and including ``L-1``, but no larger. ``n`` may also be ``-1, -2...``down to and including ``-L``, but no smaller. \n",
    "A negative ``n`` (e.g., -1) denotes the same item in ``S`` as ``L+n`` (e.g., ``L + -1``) does. In other words, ``S[-1]``, like ``S[L-1]``, is the last element of ``S``, ``S[-2]`` is the next-to-last one, and so on. For example:"
   ]
  },
  {
   "cell_type": "code",
   "execution_count": null,
   "metadata": {},
   "outputs": [],
   "source": [
    "x=[1,2,3,4]\n",
    "x[1]        # 2 \n",
    "x[-1]       # 4"
   ]
  },
  {
   "cell_type": "markdown",
   "metadata": {},
   "source": [
    "Using an index ``>=L`` or ``<-L`` raises an exception. Assigning to an item with an invalid index also raises an exception. You can add elements to a list, but to do so you assign to a slice, not an item.\n",
    "\n",
    "## Slicing a sequence\n",
    "\n",
    "To indicate a subsequence of S, you can use a slicing, with the syntax ``S[i:j]``, where i and j are integers. ``S[i:j]`` is the subsequence of S from the ith item, included, to the jth item, excluded. In Python, ranges always include the lower bound and exclude the upper bound. \n",
    "\n",
    "* A slice is an empty subsequence when j is less than or equal to i, or when i is greater than or equal to L, the length of S. \n",
    "* You can omit i when it is equal to 0, so that the slice begins from the start of S. \n",
    "* You can omit j when it is greater than or equal to L, so that the slice extends all the way to the end of S. \n",
    "* You can even omit both indices, to mean a shallow copy of the entire sequence: ``S[:]``. Either or both indices may be less than 0. \n",
    "\n",
    "Here are some examples:"
   ]
  },
  {
   "cell_type": "code",
   "execution_count": null,
   "metadata": {},
   "outputs": [],
   "source": [
    "x=[1,2,3,4] \n",
    "x[1:3]         # [2, 3]\n",
    "x[1:]          # [2, 3, 4]\n",
    "x[:2]          # [1, 2]"
   ]
  },
  {
   "cell_type": "markdown",
   "metadata": {},
   "source": [
    "A negative index ``n`` in a slicing indicates the same spot in ``S`` as ``L+n``, just like it does in an indexing. \n",
    "\n",
    "An index greater than or equal to ``L`` means the end of ``S``, while a negative index less than or equal to ``-L`` means the start of ``S``. \n",
    "\n",
    "Slicing can use the extended syntax ``S[i:j:k]``. ``k`` is the stride of the slice, meaning the distance between successive indices. \n",
    "* ``S[i:j]`` is equivalent to ``S[i:j:1]`` \n",
    "* ``S[::2]`` is the subsequence of ``S`` that includes all items that have an even index in ``S`` \n",
    "* ``S[::-1]`` (the Martian Smiley) has the same items as ``S``, but in reverse order. \n",
    "\n",
    "With a negative stride, in order to have a nonempty slice, the second (“stop”) index needs to be smaller than the first (“start”) one — the reverse of the condition that must hold when the stride is positive. A stride of 0 raises an exception."
   ]
  },
  {
   "cell_type": "code",
   "execution_count": 2,
   "metadata": {},
   "outputs": [
    {
     "name": "stdout",
     "output_type": "stream",
     "text": [
      "[5, 6, 7, 8, 9]\n",
      "[0, 2, 4, 6, 8]\n",
      "[9, 7, 5, 3, 1]\n",
      "[9, 7, 5, 3, 1]\n",
      "[9, 7, 5, 3, 1]\n"
     ]
    }
   ],
   "source": [
    "y = list(range(10))\n",
    "print(y[-5:])           #  last five items\n",
    "print(y[::2])           #  every other item\n",
    "print(y[10:0:-2])       #  every other item, in reverse order\n",
    "print(y[:0:-2])         #  every other item, in reverse order (simpler)\n",
    "print(y[::-2])          #  every other item, in reverse order (best)"
   ]
  },
  {
   "cell_type": "markdown",
   "metadata": {},
   "source": [
    "# Strings\n",
    "\n",
    "String objects (byte strings, as well as text, aka Unicode, ones) are immutable: attempting to rebind or delete an item or slice of a string raises an exception. \n",
    "\n",
    "The items of a string object (corresponding to each of the characters in the string) are themselves strings of the same kind, each of length 1 — Python has no special data type for “single characters” (except for the items of a bytes object in v3: in that case, indexing produces an int). \n",
    "\n",
    "All slices of a string are strings of the same kind.\n",
    "\n",
    "# Tuples\n",
    "\n",
    "Tuple objects are immutable: therefore, attempting to rebind or delete an item or slice of a tuple raises an exception. The items of a tuple are arbitrary objects and may be of different types; tuple items may be mutable, but we don’t recommend this practice, as it can be confusing. The slices of a tuple are also tuples. Tuples have no normal (nonspecial) methods, except ``count`` and ``index``, with the same meanings as for lists; they do have some special methods.\n",
    "\n",
    "# Lists\n",
    "\n",
    "List objects are mutable: you may rebind or delete items and slices of a list. Items of a list are arbitrary objects and may be of different types. Slices of a list are lists.\n",
    "\n",
    "## Modifying a list\n",
    "\n",
    "You can modify a single item in a list by assigning to an indexing. For instance:"
   ]
  },
  {
   "cell_type": "code",
   "execution_count": 3,
   "metadata": {},
   "outputs": [
    {
     "data": {
      "text/plain": [
       "[1, 42, 3, 4]"
      ]
     },
     "execution_count": 3,
     "metadata": {},
     "output_type": "execute_result"
    }
   ],
   "source": [
    "x=[1,2,3,4]\n",
    "x[1]=42     # x is now [1, 42, 3, 4]\n",
    "x"
   ]
  },
  {
   "cell_type": "markdown",
   "metadata": {},
   "source": [
    "Another way to modify a list object ``L`` is to use a slice of ``L`` as the target (LHS) of an assignment statement. The RHS of the assignment must be an iterable. \n",
    "* When the LHS slice is in extended form (i.e., the slicing specifies a stride!=1), then the RHS must have just as many items as the number of items in the LHS slice. \n",
    "* When the LHS slicing does not specify a stride, or explicitly specifies a stride of 1, the LHS slice and the RHS may each be of any length; assigning to such a slice of a list can make the list longer or shorter. For example:"
   ]
  },
  {
   "cell_type": "code",
   "execution_count": 4,
   "metadata": {},
   "outputs": [
    {
     "name": "stdout",
     "output_type": "stream",
     "text": [
      "[1, 2, 3, 4]\n",
      "[1, 22, 33, 44, 4]\n",
      "[1, 8, 9, 4]\n"
     ]
    }
   ],
   "source": [
    "x=[1,2,3,4]\n",
    "print(x)\n",
    "\n",
    "x[1:3] = [22, 33, 44]   # x is now [1, 22, 33, 44, 4] \n",
    "print(x)\n",
    "\n",
    "x[1:4] = [8, 9]         # x is now [1, 8, 9, 4]\n",
    "print(x)"
   ]
  },
  {
   "cell_type": "markdown",
   "metadata": {},
   "source": [
    "Here are some important special cases of assignment to slices:\n",
    "* Using the empty list ``[]`` as the RHS expression removes the target slice from ``L``. In other words, ``L[i:j]=[]`` has the same effect as ``del L[i:j]`` (or the peculiar statement ``L[i:j]*=0``).\n",
    "* Using an empty slice of ``L`` as the LHS target inserts the items of the RHS at the appropriate spot in ``L``. For example, ``L[i:i]=['a','b']`` inserts ``'a'`` and ``'b'`` before the item that was at index ``i`` in ``L`` prior to the assignment.\n",
    "• Using a slice that covers the entire list object, ``L[:]``, as the LHS target, totally replaces the contents of ``L``.\n",
    "\n",
    "You can delete an item or a slice from a list with ``del``. For instance:"
   ]
  },
  {
   "cell_type": "code",
   "execution_count": 5,
   "metadata": {},
   "outputs": [
    {
     "name": "stdout",
     "output_type": "stream",
     "text": [
      "[1, 2, 3, 4, 5]\n",
      "[1, 3, 4, 5]\n",
      "[3, 5]\n"
     ]
    }
   ],
   "source": [
    "x=[1,2,3,4,5]\n",
    "print(x)\n",
    "del x[1] # x is now [1, 3, 4, 5] \n",
    "print(x)\n",
    "del x[::2] # x is now [3, 5]\n",
    "print(x)"
   ]
  },
  {
   "cell_type": "markdown",
   "metadata": {},
   "source": [
    "## In-place operations on a list\n",
    "\n",
    "List objects define in-place versions of the ``+`` and ``*`` operators, which you can use via augmented assignment statements. <br> The augmented assignment statement ``L+=L1`` has the effect of adding the items of iterable ``L1`` to the end of ``L``, just like ``L.extend(L1)``. <br> ``L*=n`` has the effect of adding ``n-1`` copies of ``L`` to the end of ``L``; if ``n<=0``, ``L*=n`` empties the contents of ``L``, like ``L[:]=[]``.\n",
    "\n",
    "## List methods\n",
    "\n",
    "List objects provide several methods. Nonmutating methods return a result without altering the object to which they apply, while mutating methods may alter the object to which they apply. Many of a list’s mutating methods behave like assignments to appropriate slices of the list. \n",
    "* ``L`` indicates any list object \n",
    "* ``i`` any valid index in ``L`` \n",
    "* ``s`` any iterable\n",
    "* ``x`` any object\n",
    "\n",
    "| Method | Description |\n",
    "|:-------|:------------|\n",
    "|``L.count(x)``| Returns the number of items of L that are equal to x |\n",
    "|``L.index(x)``| Returns the index of the first occurrence of an item in L that is equal to x, or raises an exception if L has no such item |\n",
    "|``L.append(x)`` | Appends item x to the end of L; like ``L[len(L):] = [x]``\n",
    "|``L.extend(s)`` | Appends all the items of iterable s to the end of L; like ``L[len(L):] = s`` or ``L += s`` |\n",
    "|``L.insert(i,x)``| Inserts item x in L before the item at index i, moving following items of L (if any) “rightward” to make space (increases ``len(L)`` by one, does not replace any item, does not raise exceptions; acts just like ``L[i:i]=[x]``) |\n",
    "|``L.remove(x)`` | Removes from L the first occurrence of an item in L that is equal to x, or raises an exception if L has no such item |\n",
    "|``L.pop(i = -1)`` | Returns the value of the item at index i and removes it from L; when you omit i, removes and returns the last item; raises an exception if L is empty or i is an invalid index in L |\n",
    "|``L.reverse()`` | Reverses, in place, the items of L |\n",
    "|``L.sort(cmp=cmp, key=None, reverse=False)``| Sorts, in-place, the items of L, comparing items pairwise via —v2, only — the function passed as cmp (by default, the built-in function cmp). When argument key is not None, what gets compared for each item x is key(x), not x itself. Argument cmp is deprecated in v2 (we recommend never using it) and does not exist at all in v3.\n",
    "\n",
    "All mutating methods of list objects, except pop, return None.<br>\n",
    "The non-mutating methods are ``count`` and ``index``.\n",
    "\n"
   ]
  },
  {
   "cell_type": "markdown",
   "metadata": {},
   "source": [
    "## Sorting a list\n",
    "\n",
    "A list’s method ``sort`` causes the list to be sorted in-place (reordering items to place them in increasing order) in a way that is guaranteed to be stable (elements that compare equal are not exchanged). \n",
    "\n",
    "In practice, sort is extremely fast, often preter‐naturally fast, as it can exploit any order or reverse order that may be present in any sublist (the advanced algorithm ``sort`` uses, known as *timsort* to honor its inventor, great Pythonista Tim Peters, is a “non-recursive adaptive stable natural mergesort/binary insertion sort hybrid”).\n",
    "\n",
    "In v2, the ``sort`` method takes three optional arguments, which may be passed with either positional or named-argument syntax. The argument ``cmp`` (deprecated), when present, must be a function that, when called with any two list items as arguments, returns -1, 0, or 1, depending on whether the first item is to be considered less than, equal to, or greater than the second item for sorting purposes (when not present, it defaults to the built-in function ``cmp``, which has exactly these semantics). \n",
    "\n",
    "The argument ``key``, if not ``None``, must be a function that can be called with any list item as its only argument. In this case, to compare any two items ``x`` and ``y``, Python uses ``cmp(key(x),key(y))`` rather than ``cmp(x,y)`` (internally, Python implements this in the same way as the decorate-sort-undecorate idiom but substantially faster). \n",
    "\n",
    "The argument ``reverse``, if ``True``, causes the result of each comparison to be reversed; this is not the same thing as reversing ``L`` after sorting, because the ``sort`` is stable (elements that compare equal are never exchanged) whether the argument ``reverse`` is true or false.\n",
    "\n",
    "v3’s ``sort`` works just like v2’s, but the previously deprecated argument ``cmp`` is now simply nonexistent (if you try passing it, Python raises an exception):"
   ]
  },
  {
   "cell_type": "code",
   "execution_count": 6,
   "metadata": {},
   "outputs": [],
   "source": [
    "mylist = ['alpha', 'Beta', 'GAMMA']\n",
    "mylist.sort()                         # ['Beta', 'GAMMA', 'alpha'] \n",
    "mylist.sort(key=str.lower)            # ['alpha', 'Beta', 'GAMMA']"
   ]
  },
  {
   "cell_type": "markdown",
   "metadata": {},
   "source": [
    "Python also provides the built-in function ``sorted`` to produce a sorted list from any input iterable. ``sorted``, after the first argument (which is the iterable supplying the items), accepts the same arguments as a list’s method ``sort``.\n",
    "\n",
    "The standard library module ``operator`` supplies higher-order functions ``attrgetter`` and ``itemgetter``, which produce functions particularly suitable for the ``key=`` optional argument of lists’ method ``sort`` and the built-in function ``sorted``. \n",
    "\n",
    "The identical ``key=`` optional argument also exists for built-in functions ``min`` and ``max``, and for functions ``nsmallest`` and ``nlargest`` in standard library module ``heapq``."
   ]
  }
 ],
 "metadata": {
  "kernelspec": {
   "display_name": "Python 3",
   "language": "python",
   "name": "python3"
  },
  "language_info": {
   "codemirror_mode": {
    "name": "ipython",
    "version": 3
   },
   "file_extension": ".py",
   "mimetype": "text/x-python",
   "name": "python",
   "nbconvert_exporter": "python",
   "pygments_lexer": "ipython3",
   "version": "3.8.5"
  },
  "toc": {
   "base_numbering": 1,
   "nav_menu": {},
   "number_sections": true,
   "sideBar": true,
   "skip_h1_title": false,
   "title_cell": "Table of Contents",
   "title_sidebar": "Contents",
   "toc_cell": false,
   "toc_position": {},
   "toc_section_display": true,
   "toc_window_display": false
  }
 },
 "nbformat": 4,
 "nbformat_minor": 4
}
