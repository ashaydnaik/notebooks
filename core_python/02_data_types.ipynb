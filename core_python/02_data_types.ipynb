{
 "cells": [
  {
   "cell_type": "markdown",
   "metadata": {},
   "source": [
    "Data values in Python are known as objects; each object, aka value, has a type. \n",
    "* The type determines which operations the object supports (in other words, which operations you can perform on the value). \n",
    "* The type determines the object’s attributes and items (if any) and whether the object can be altered. An object that can be altered is known as a mutable object, while one that cannot be altered is an immutable object. \n",
    "\n",
    "Related built-in functions:\n",
    "* The built-in type(obj) accepts any object as its argument and returns the type object that is the type of obj. \n",
    "* The built-in function isinstance(obj, type) returns True when object obj has type type (or any subclass thereof); otherwise, it returns False.\n",
    "\n",
    "Python has built-in types for fundamental data types such as numbers, strings, tuples, lists, dictionaries, and sets. You can also create user-defined types, known as classes.\n",
    "\n",
    "# numbers\n",
    "\n",
    "The built-in numeric types in Python include:\n",
    "* integers (there’s no distinction between kinds of integers and longs), \n",
    "* floating-point numbers, and \n",
    "* complex numbers. \n",
    "The standard library also offers decimal floating-point numbers and fractions. \n",
    "\n",
    "All numbers in Python are immutable objects; therefore, when you perform an operation on a number object, you produce a new number object. Numeric literals do not include a sign: a leading + or -, if present, is a separate operator.\n",
    "\n",
    "## integer numbers\n",
    "\n",
    "Integer literals can be decimal, binary, octal, or hexadecimal. \n",
    "* A decimal literal is a sequence of digits in which the first digit is nonzero. \n",
    "* A binary literal is 0b followed by a sequence of binary digits (0 or 1). \n",
    "* An octal literal, is 0o followed by a sequence of octal digits. \n",
    "* A hexadecimal literal is 0x followed by a sequence of hexadecimal digits (0 to 9 and A to F, in either upper- or lowercase). \n",
    "\n",
    "For example:"
   ]
  },
  {
   "cell_type": "code",
   "execution_count": null,
   "metadata": {},
   "outputs": [],
   "source": [
    "1, 23, 3493           # Decimal integer literals\n",
    "0b010101, 0b110010    # Binary integer literals\n",
    "0o1, 0o27, 0o6645     # Octal integer literals\n",
    "0x1, 0x17, 0xDA5      # Hexadecimal integer literals"
   ]
  },
  {
   "cell_type": "markdown",
   "metadata": {},
   "source": [
    "Integer literals have no defined upper bound.\n",
    "\n",
    "## floating-point numbers\n",
    "\n",
    "A floating-point literal is a sequence of decimal digits that includes a decimal point, an exponent suffix (an e or E, optionally followed by + or -, followed by one or more digits), or both. The leading character of a floating-point literal cannot be e or E; it may be any digit or a period. \n",
    "\n",
    "For example:"
   ]
  },
  {
   "cell_type": "code",
   "execution_count": null,
   "metadata": {},
   "outputs": [],
   "source": [
    "0., 0.0, .0, 1., 1.0, 1e0, 1.e0, 1.0e0 # Floating-point literals"
   ]
  },
  {
   "cell_type": "markdown",
   "metadata": {},
   "source": [
    "For the exact range and precision of floating-point values on the current platform, see sys.float_info.\n",
    "\n",
    "## complex numbers\n",
    "\n",
    "A complex number is made up of two floating-point values, one each for the real and imaginary parts. You can access the parts of a complex object z as read-only attributes **z.real** and **z.imag**. \n",
    "\n",
    "You can specify an imaginary literal as a floating-point or decimal literal followed by a j or J:"
   ]
  },
  {
   "cell_type": "code",
   "execution_count": null,
   "metadata": {},
   "outputs": [],
   "source": [
    "0j, 0.j, 0.0j, .0j, 1j, 1.j, 1.0j, 1e0j, 1.e0j, 1.0e0j"
   ]
  },
  {
   "cell_type": "markdown",
   "metadata": {},
   "source": [
    "The j at the end of the literal indicates the square root of -1. There are no other complex literals. To denote any constant complex number, add or subtract a floating-point (or integer) literal and an imaginary one. \n",
    "\n",
    "For example, to denote the complex number that equals one, use expressions like 1+0j or 1.0+0.0j. Python performs the addition or subtraction at compile time.\n",
    "\n",
    "## new in 3.6 - underscores in numeric literals\n",
    "\n",
    "Numeric literals can include single underscore characters between digits or after any base specifier. "
   ]
  },
  {
   "cell_type": "code",
   "execution_count": null,
   "metadata": {},
   "outputs": [],
   "source": [
    "100_000.000_0001, 0x_FF_FF, 0o7_777, 0b_1010_1010"
   ]
  },
  {
   "cell_type": "markdown",
   "metadata": {},
   "source": [
    "# sequences\n",
    "\n",
    "A sequence is an ordered container of items, indexed by integers. Python has built-in sequence types known as strings, tuples, and lists. Library and extension modules provide other sequence types, and you can write yet others yourself. You can manipulate sequences in a variety of ways.\n",
    "\n",
    "## iterables\n",
    "\n",
    "All sequences are bounded iterables. In general, iterables can be unbounded, but if you try to use an unbounded iterable without special precautions, you could produce a program that never terminates, or one that exhausts all available memory.\n",
    "\n",
    "## strings\n",
    "\n",
    "A built-in string object (bytes or Unicode) is a sequence of characters used to store and represent text-based information (byte strings, also known as byte objects, store and represent arbitrary sequences of binary bytes). Strings in Python are immutable: when you perform an operation on strings, you always produce a new string object, rather than mutating an existing string. String objects provide many methods.\n",
    "\n",
    "A string literal can be quoted or triple-quoted. A quoted string is a sequence of 0+ characters within matching quotes, single (') or double (\"). The two different kinds of quotes function identically; having both lets you include one kind of quote inside of a string specified with the other kind, with no need to escape quote characters with the backslash character (\\).\n",
    "\n",
    "Other things equal, using single quotes to denote string literals is better Python style. To have a string literal span multiple physical lines, you can use a \\ as the last character of a line to indicate that the next line is a continuation.\n",
    "\n",
    "To make the string contain multiple lines, use triple-quoted string. The only character that cannot be part of a triple-quoted string is an unescaped backslash, while a quoted string cannot contain unescaped backslashes, nor line ends, nor the quote character that encloses it.\n",
    "\n",
    "A variant of a string literal is a raw string. The syntax is the same as for quoted or triple-quoted string literals, except that an r or R immediately precedes the leading quote. In raw strings, escape sequences are literally copied into the string, including backslashes and newline characters. Raw string syntax is handy for strings that include many backslashes, especially regular expression patterns. A raw string cannot end with an odd number of backslashes: the last one would be taken as escaping the terminating quote. Raw strings are not a different type from ordinary strings; they are just an alternative syntax for literals of the usual two string types, byte strings and Unicode.\n",
    "\n",
    "In Unicode string literals you can use \\u followed by four hex digits, and \\U followed by eight hex digits, to denote Unicode characters, and can also include escape sequences. Unicode literals can also include the escape sequence \\N{name}, where name is a standard Unicode name, as listed at http://www.unicode.org/charts/. For example, \\N{Copyright Sign} indicates a Uni‐ code copyright sign character (©).\n",
    "\n",
    "**New in 3.6** formatted string literals let you inject formatted expressions into your strings, which are therefore no longer constants but subject to evaluation at execution time. From a syntactic point of view, they can be regarded just as another kind of string literal.\n",
    "\n",
    "Multiple string literals of any kind — quoted, triple-quoted, raw, bytes, formatted, Unicode —can be adjacent, with optional whitespace in between. The compiler concatenates such adjacent string literals into a single string object. Writing a long string literal in this way lets you present it readably across multiple physical lines and gives you an opportunity to insert comments about parts of the string. "
   ]
  },
  {
   "cell_type": "code",
   "execution_count": null,
   "metadata": {},
   "outputs": [],
   "source": [
    "marypop = ('supercalifragilistic' # Open paren->logical line continues \n",
    "           'expialidocious') # Indentation ignored in continuation\n",
    "marypop"
   ]
  },
  {
   "cell_type": "markdown",
   "metadata": {},
   "source": [
    "## tuples\n",
    "\n",
    "A tuple is an immutable ordered sequence of items. The items of a tuple are arbitrary objects and may be of different types. You can use mutable objects (e.g., lists) as tuple items; however, best practice is to avoid tuples with mutable items.\n",
    "\n",
    "* To denote a tuple, use a series of expressions (the items of the tuple) separated by commas; if every item is a literal, the whole assembly is a **tuple literal**. You may optionally place a redundant comma after the last item. \n",
    "* You may group tuple items within parentheses, but the parentheses are necessary only where the commas would otherwise have another meaning (e.g., in function calls), or to denote empty or nested tuples. \n",
    "* A tuple with exactly two items is also known as a pair. \n",
    "* To create a tuple of one item, add a comma to the end of the expression. \n",
    "* To denote an empty tuple, use an empty pair of parentheses. \n",
    "\n",
    "Here are some tuple literals, all in the optional parentheses (the parentheses are not optional in the last case):"
   ]
  },
  {
   "cell_type": "code",
   "execution_count": null,
   "metadata": {},
   "outputs": [],
   "source": [
    "(100, 200, 300)   # Tuple with three items\n",
    "(3.14,)           # Tuple with 1 item needs trailing comma\n",
    "()                # Empty tuple (parentheses NOT optional)"
   ]
  },
  {
   "cell_type": "markdown",
   "metadata": {},
   "source": [
    "You can also call the built-in type tuple to create a tuple. This builds a tuple equal to that denoted by the tuple literal. For example:"
   ]
  },
  {
   "cell_type": "code",
   "execution_count": null,
   "metadata": {},
   "outputs": [],
   "source": [
    "tuple('wow')"
   ]
  },
  {
   "cell_type": "markdown",
   "metadata": {},
   "source": [
    "The tuple function without arguments creates and returns an empty tuple. When x is iterable, tuple(x) returns a tuple whose items are the same as those in x.\n",
    "\n",
    "## lists\n",
    "\n",
    "A list is a mutable ordered sequence of items. The items of a list are arbitrary objects and may be of different types. To denote a list, use a series of expressions (the items of the list) separated by commas, within brackets; if every item is a literal, the whole assembly is a **list literal**. You may optionally place a redundant comma after the last item. To denote an empty list, use an empty pair of brackets. Here are some example list literals:"
   ]
  },
  {
   "cell_type": "code",
   "execution_count": null,
   "metadata": {},
   "outputs": [],
   "source": [
    "[42, 3.14, 'hello'] # List with three items\n",
    "[100]               # List with one item\n",
    "[]                  # Empty list "
   ]
  },
  {
   "cell_type": "markdown",
   "metadata": {},
   "source": [
    "You can also call the built-in type list to create a list. This builds a list equal to that denoted by the list literal. For example:"
   ]
  },
  {
   "cell_type": "code",
   "execution_count": null,
   "metadata": {},
   "outputs": [],
   "source": [
    "list('wow')"
   ]
  },
  {
   "cell_type": "markdown",
   "metadata": {},
   "source": [
    "The list function without arguments creates and returns an empty list. When x is iterable, list(x) creates and returns a new list whose items are the same as those x. You can also build lists with list comprehensions."
   ]
  },
  {
   "cell_type": "markdown",
   "metadata": {},
   "source": [
    "# sets\n",
    "\n",
    "Python has two built-in set types, set and frozenset, to represent arbitrarily ordered collections of unique items. Items in a set may be of different types, but they must be hashable. Instances of type set are mutable, and thus, not hashable; instances of type frozenset are immutable and hashable. You can’t have a set whose items are sets, but you can have a set (or frozenset) whose items are frozensets. Sets and frozensets are not ordered.\n",
    "\n",
    "To create a set, you can call the built-in type set with no argument (this means an empty set) or one argument that is iterable (this means a set whose items are those of the iterable). You can similarly build a frozenset by calling frozenset.\n",
    "\n",
    "Alternatively, to denote a (nonfrozen, nonempty) set, use a series of expressions (the items of the set) separated by commas and within braces; if every item is a literal, the whole assembly is a **set literal**. You may optionally place a redundant comma after the last item. You can also build nonfrozen sets with set comprehensions"
   ]
  },
  {
   "cell_type": "code",
   "execution_count": null,
   "metadata": {},
   "outputs": [],
   "source": [
    "{42, 3.14, 'hello'} # Literal for a set with three items\n",
    "{100}               # Literal for a set with one item\n",
    "set()               # Empty set (can't use {}—empty dict!)"
   ]
  },
  {
   "cell_type": "markdown",
   "metadata": {},
   "source": [
    "# dictionaries\n",
    "\n",
    "A mapping is an arbitrary collection of objects indexed by nearly arbitrary values called keys. Each specific mapping type may put constraints on the type of keys it accepts: in particular, dictionaries only accept hashable keys. Mappings are mutable and, like sets but unlike sequences, are not (necessarily) ordered.\n",
    "\n",
    "Python provides a single built-in mapping type: the dictionary type. Library and extension modules provide other mapping types, and you can write others yourself. \n",
    "* Keys in a dictionary may be of different types, but they must be hashable. \n",
    "* Values in a dictionary are arbitrary objects and may be of any type. \n",
    "\n",
    "An item in a dictionary is a key/value pair. You can think of a dictionary as an associative array.\n",
    "\n",
    "To denote a dictionary, you can use a series of colon-separated pairs of expressions (the pairs are the items of the dictionary) separated by commas within braces; if every expression is a literal, the whole assembly is a **dict literal**. You may optionally place a redundant comma after the last item. \n",
    "\n",
    "Each item in a dictionary is written as key:value, where key is an expression giving the item’s key and value is an expression giving the item’s value. If a key’s value appears more than once in a dictionary expression, only an arbitrary one of the items with that key is kept in the resulting dictionary object — dictionaries do not allow duplicate keys. To denote an empty dictionary, use an empty pair of braces."
   ]
  },
  {
   "cell_type": "code",
   "execution_count": null,
   "metadata": {},
   "outputs": [],
   "source": [
    "{'x':42, 'y':3.14, 'z':7} # Dictionary with three items, str keys\n",
    "{1:2, 3:4}                # Dictionary with two items, int keys\n",
    "{1:'za', 'br':23}         # Dictionary with mixed key types\n",
    "{}                        # Empty dictionary"
   ]
  },
  {
   "cell_type": "markdown",
   "metadata": {},
   "source": [
    "You can also call the built-in type dict to create a dictionary in a way that, while usually less concise, can sometimes be more readable. "
   ]
  },
  {
   "cell_type": "code",
   "execution_count": null,
   "metadata": {},
   "outputs": [],
   "source": [
    "dict(x=42, y=3.14, z=7)     # Dictionary with three items, str keys \n",
    "dict([(1, 2), (3, 4)])      # Dictionary with two items, int keys \n",
    "dict([(1,'za'), ('br',23)]) # Dictionary with mixed key types \n",
    "dict()                      # Empty dictionary"
   ]
  },
  {
   "cell_type": "markdown",
   "metadata": {},
   "source": [
    "The dict function without arguments creates and returns an empty dictionary. \n",
    "\n",
    "* When the argument x to dict is a mapping, dict returns a new dictionary object with the same keys and values as x. \n",
    "* When x is iterable, the items in x must be pairs, and dict(x) returns a dictionary whose items (key/value pairs) are the same as the items in x. \n",
    "* If a key value appears more than once in x, only the last item from x with that key value is kept in the resulting dictionary.\n",
    "\n",
    "Calling dict:\n",
    "* When you call dict, in addition to, or instead of, the positional argument x, you may pass named arguments, each with the syntax name=value, where name is an identifier to use as an item’s key and value is an expression giving the item’s value. \n",
    "* When you call dict and pass both a positional argument and one or more named arguments, if a key appears both in the positional argument and as a named argument, Python associates to that key the value given with the named argument (i.e., the named argument “wins”).\n",
    "\n",
    "You can also create a dictionary by calling **dict.fromkeys**. <br>\n",
    "The first argument is an iterable whose items become the keys of the dictionary; the second argument is the value that corresponds to each and every key (all keys initially map to the same value). If you omit the second argument, it defaults to None.\n",
    "\n",
    "You can also build dicts with dict comprehensions."
   ]
  },
  {
   "cell_type": "code",
   "execution_count": null,
   "metadata": {},
   "outputs": [],
   "source": [
    "dict.fromkeys('hello', 2) # same as {'h':2, 'e':2, 'l':2, 'o':2} \n",
    "dict.fromkeys([1, 2, 3])  # same as {1:None, 2:None, 3:None}"
   ]
  },
  {
   "cell_type": "markdown",
   "metadata": {},
   "source": [
    "# None\n",
    "\n",
    "* The built-in None denotes a null object. \n",
    "* None has no methods or other attributes. \n",
    "* You can use None as a placeholder when you need a reference but you don’t care what object you refer to, or when you need to indicate that no object is there. \n",
    "* Functions return None as their result unless they have specific return statements coded to return other values.\n",
    "\n",
    "# callables\n",
    "\n",
    "In Python, callable types are those whose instances support the function call operation. Functions are callable. Python provides several built-in functions  and supports user-defined functions. Generators are also callable.\n",
    "\n",
    "Types are also callable: dict, list, set, tuple. The class objects (user-defined types) are also callable. Calling a type normally creates and returns a new instance of that type.\n",
    "\n",
    "Other callables are methods, which are functions bound to class attributes, and instances of classes that supply a special method named \\_\\_call\\_\\_.\n",
    "\n",
    "# boolean values\n",
    "\n",
    "* Any data value in Python can be used as a truth value: true or false. \n",
    "* Any nonzero number or nonempty container (e.g., string, tuple, list, set, or dictionary) is true. \n",
    "* 0 (of any numeric type), None, and empty containers are false.\n",
    "\n",
    "Be careful about using a floating-point number as a truth value: that’s like comparing the number for exact equality with zero, and floating-point numbers should almost never be compared for exact equality.\n",
    "\n",
    "The built-in type bool is a subclass of int. The only two values of type bool are True and False, which have string representations of 'True' and 'False', but also numerical values of 1 and 0, respectively. Several built-in functions return bool results, as do comparison operators.\n",
    "\n",
    "You can call bool(x) with any x as the argument. The result is True when x is true and False when x is false. Good Python style is not to use such calls when they are redundant, as they most often are: <br>\n",
    "always write ``if x:`` <br>\n",
    "never any of ``if bool(x):``, ``if x is True``, ``if x==True:``, ``if bool(x)==True``. <br>\n",
    "However, you can use bool(x) to count the number of true items in a sequence. "
   ]
  },
  {
   "cell_type": "code",
   "execution_count": null,
   "metadata": {},
   "outputs": [],
   "source": [
    "def count_trues(seq): return sum(bool(x) for x in seq)"
   ]
  },
  {
   "cell_type": "markdown",
   "metadata": {},
   "source": [
    "The bool call ensures each item of seq is counted as 0 (if false) or 1\n",
    "(if true), so count_trues is more general than sum(seq) would be.\n",
    "\n",
    "When we write “expression is true,” we mean that bool(expression) would return\n",
    "True."
   ]
  }
 ],
 "metadata": {
  "kernelspec": {
   "display_name": "Python 3",
   "language": "python",
   "name": "python3"
  },
  "language_info": {
   "codemirror_mode": {
    "name": "ipython",
    "version": 3
   },
   "file_extension": ".py",
   "mimetype": "text/x-python",
   "name": "python",
   "nbconvert_exporter": "python",
   "pygments_lexer": "ipython3",
   "version": "3.8.5"
  },
  "toc": {
   "base_numbering": 1,
   "nav_menu": {},
   "number_sections": true,
   "sideBar": true,
   "skip_h1_title": false,
   "title_cell": "Table of Contents",
   "title_sidebar": "Contents",
   "toc_cell": false,
   "toc_position": {
    "height": "calc(100% - 180px)",
    "left": "10px",
    "top": "150px",
    "width": "214.667px"
   },
   "toc_section_display": true,
   "toc_window_display": true
  }
 },
 "nbformat": 4,
 "nbformat_minor": 4
}
