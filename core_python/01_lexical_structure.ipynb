{
 "cells": [
  {
   "cell_type": "markdown",
   "metadata": {},
   "source": [
    "The lexical structure of a programming language is the set of basic rules that govern how you write programs in that language. It is the lowest-level syntax of the language, specifying such things as what variable names look like and how to denote comments. \n",
    "\n",
    "Each Python source file, like any other text file, is a sequence of characters. You can also usefully consider it a sequence of lines, tokens, or statements. These different lexical views complement each other. Python is very particular about program layout, especially regarding lines and indentation."
   ]
  },
  {
   "cell_type": "markdown",
   "metadata": {},
   "source": [
    "# lines and indentation\n",
    "\n",
    "A Python program is a sequence of logical lines, each made up of one or more physical lines. Each physical line may end with a comment. A hash sign # that is not inside a string literal starts a comment. All characters after the #, up to but excluding the line end, are the comment: Python ignores them. A line containing only whitespace, possibly with a comment, is a blank line: Python ignores it.\n",
    "\n",
    "In Python, the end of a physical line marks the end of most statements. Unlike in other languages, you don’t normally terminate Python statements with a delimiter, such as a semicolon. When a statement is too long to fit on a physical line, you can join two adjacent physical lines into a logical line by ensuring that the first physical line has no comment and ends with a backslash. \n",
    "\n",
    "However, Python also automatically joins adjacent physical lines into one logical line if an open parenthesis, bracket, or brace has not yet been closed: take advantage of this mechanism to produce more readable code than you’d get with backslashes at line ends. \n",
    "\n",
    "Triple-quoted string literals can also span physical lines. Physical lines after the first one in a logical line are known as continuation lines. Indentation issues apply to the first physical line of each logical line, not to continuation lines.\n",
    "\n",
    "Python uses indentation to express the block structure of a program. Unlike other languages, Python does not use braces, or other begin/end delimiters, around blocks of statements; indentation is the only way to denote blocks. \n",
    "\n",
    "Each logical line in a Python program is indented by the whitespace on its left. A block is a contiguous sequence of logical lines, all indented by the same amount; a logical line with less indentation ends the block. All statements in a block must have the same indentation, as must all clauses in a compound statement. The first statement in a source file must have no indentation (i.e., must not begin with any whitespace).\n",
    "\n",
    "Standard Python style is to use four spaces (never tabs) per indentation level. Don’t mix spaces and tabs for indentation, since different tools (e.g., editors, email systems, printers) treat tabs differently. We recommend you configure your favorite editor to expand tabs to four spaces, so that all Python source code you write contains just spaces, not tabs. "
   ]
  },
  {
   "cell_type": "markdown",
   "metadata": {},
   "source": [
    "# character sets\n",
    "\n",
    "A v3 source file can use any Unicode character, encoded as UTF-8. (Characters with codes between 0 and 127,aka ASCII characters, encode in UTF-8 into the respective single bytes, so an ASCII text file is a fine v3 Python source file, too.)\n",
    "\n",
    "You may choose to tell Python that a certain source file is written in a different encoding. In this case, Python uses that encoding to read the file.\n",
    "\n",
    "To let Python know that a source file is written with a nonstandard encoding, start your source file with a comment whose form must be, for example:\n",
    "\n",
    "    # coding: iso-8859-1\n",
    "\n",
    "After \"coding:\", write the name of a codec known to Python and ASCII-compatible, such as utf-8 or iso-8859-1. Note that this coding directive comment (also known as an encoding declaration) is taken as such only if it is at the start of a source file (possibly after the “shebang line”). Best practice is to use utf-8 for all of your text files, including Python source files."
   ]
  },
  {
   "cell_type": "markdown",
   "metadata": {},
   "source": [
    "# tokens\n",
    "\n",
    "Python breaks each logical line into a sequence of elementary lexical components known as tokens. Each token corresponds to a substring of the logical line. The normal token types are identifiers, keywords, operators, delimiters, and literals. \n",
    "\n",
    "You may freely use whitespace between tokens to separate them. Some whitespace separation is necessary between logically adjacent identifiers or keywords; otherwise, Python would parse them as a single, longer identifier. For example, ifx is a single identifier; to write the keyword if followed by the identifier x, you need to insert some whitespace (e.g., if x)."
   ]
  },
  {
   "cell_type": "markdown",
   "metadata": {},
   "source": [
    "## identifiers\n",
    "\n",
    "An identifier is a name used to specify a variable, function, class, module, or other object. An identifier starts with a letter or an underscore, followed by zero or more letters, underscores, and digits. Case is significant: lowercase and uppercase letters are distinct. Punctuation characters such as @, $, and ! are not allowed in identifiers.\n",
    "\n",
    "1. Start class names with an uppercase letter, and other identifiers with a lowercase letter. \n",
    "2. Starting an identifier with a single leading underscore indicates by convention that the identifier is meant to be private. \n",
    "3. Starting an identifier with two leading underscores indicates a strongly private identifier; if the identifier also ends with two trailing underscores, however, this means that the identifier is a language-defined special name.\n",
    "\n",
    "The identifier _ (a single underscore) is special in interactive interpreter sessions: the interpreter binds _ to the result of the last expression statement it has evaluated interactively, if any."
   ]
  },
  {
   "cell_type": "markdown",
   "metadata": {},
   "source": [
    "## keywords\n",
    "\n",
    "Python has keywords, which are identifiers that Python reserves for special syntactic uses. You cannot use keywords as regular identifiers (thus, they’re sometimes known as “reserved words”). Some keywords begin simple statements or clauses of compound statements, while other keywords are operators. \n",
    "\n",
    "and continue as def assert del break elif class else except global lambda if not finally import or for in pass from is raise yield return try while with False None True nonlocal \n",
    "\n",
    "## operators\n",
    "\n",
    "Python uses nonalphanumeric characters and character combinations as operators.\n",
    "\n",
    "``\\+ - * / % ** // << >> & | ^ ~ < <= > >= <> != ==``\n",
    "\n",
    "## delimiters\n",
    "\n",
    "Python uses various characters and combinations as delimiters in expressions, list, dictionary, and set literals, and various statements.\n",
    "\n",
    "``( ) [ ] { }  \n",
    ", : . ` = ; @ \n",
    "+= -= *= /= //= %= \n",
    "&= |= ^= >>= <<= **= \n",
    "' \" # \\``\n",
    "\n",
    "\\\\ at the end of a physical line joins the following physical line into one logical line; \\\\ is also an escape character in strings.\n",
    "\n",
    "## literals\n",
    "\n",
    "A literal is the direct denotation in a program of a data value (a number, string, or container). The following are number and string literals in Python:"
   ]
  },
  {
   "cell_type": "code",
   "execution_count": null,
   "metadata": {},
   "outputs": [],
   "source": [
    "42 # Integer literal\n",
    "\n",
    "3.14 # Floating-point literal\n",
    "\n",
    "1.0j # Imaginary literal\n",
    "\n",
    "'hello' # String literal\n",
    "\n",
    "\"world\" # Another string literal \n",
    "\n",
    "\"\"\"Good\n",
    "night\"\"\" # Triple-quoted string literal"
   ]
  },
  {
   "cell_type": "markdown",
   "metadata": {},
   "source": [
    "Combining number and string literals with the appropriate delimiters, you can build literals that directly denote data values of container types:"
   ]
  },
  {
   "cell_type": "code",
   "execution_count": null,
   "metadata": {},
   "outputs": [],
   "source": [
    "[42, 3.14, 'hello']       # List\n",
    "\n",
    "[]                        # Empty list\n",
    "\n",
    "100, 200, 300             # Tuple\n",
    "\n",
    "()                        # Empty tuple\n",
    "\n",
    "{'x':42, 'y':3.14}        # Dictionary\n",
    "\n",
    "{}                        # Empty dictionary\n",
    "\n",
    "{1, 2, 4, 8, 'string'}    # Set\n",
    "\n",
    "# There is no literal to denote an empty set; use set() instead"
   ]
  },
  {
   "cell_type": "markdown",
   "metadata": {},
   "source": [
    "# statements\n",
    "\n",
    "A Python source file is a sequence of simple and compound statements. Python has no “declarations” or other top-level syntax elements: just statements.\n",
    "\n",
    "## simple statements\n",
    "\n",
    "A simple statement is one that contains no other statements. A simple statement lies entirely within a logical line. \n",
    "\n",
    "You may place more than one simple statement on a single logical line, with a semicolon as the separator. However, one statement per line is the usual and recommended Python style, and makes programs more readable.\n",
    "\n",
    "Any expression can stand on its own as a simple statement. Expression statements are useful only to call functions (and other callables) that have side effects (e.g., perform output, change global variables, or raise exceptions).\n",
    "\n",
    "An assignment is a simple statement that assigns values to variables. An assignment in Python is a statement and can never be part of an expression.\n",
    "\n",
    "## compound statements\n",
    "\n",
    "A compound statement contains one or more other statements and controls their execution. A compound statement has one or more clauses, aligned at the same indentation. \n",
    "\n",
    "Each clause has a header starting with a keyword and ending with a colon, followed by a body, which is a sequence of one or more statements. When the body contains multiple statements, also known as a block, these statements are on separate logical lines after the header line, indented four spaces rightward. The block lexically ends when the indentation returns to that of the clause header (or further left from there, to the indentation of some enclosing compound statement). \n",
    "\n",
    "Alternatively, the body can be a single simple statement, following the : on the same logical line as the header. The body may also consist of several simple statements on the same line with semicolons between them, but, as we’ve already mentioned, this is not good Python style."
   ]
  },
  {
   "cell_type": "code",
   "execution_count": null,
   "metadata": {},
   "outputs": [],
   "source": []
  }
 ],
 "metadata": {
  "kernelspec": {
   "display_name": "Python 3",
   "language": "python",
   "name": "python3"
  },
  "language_info": {
   "codemirror_mode": {
    "name": "ipython",
    "version": 3
   },
   "file_extension": ".py",
   "mimetype": "text/x-python",
   "name": "python",
   "nbconvert_exporter": "python",
   "pygments_lexer": "ipython3",
   "version": "3.8.5"
  },
  "toc": {
   "base_numbering": 1,
   "nav_menu": {},
   "number_sections": true,
   "sideBar": true,
   "skip_h1_title": false,
   "title_cell": "Table of Contents",
   "title_sidebar": "Contents",
   "toc_cell": false,
   "toc_position": {},
   "toc_section_display": true,
   "toc_window_display": true
  }
 },
 "nbformat": 4,
 "nbformat_minor": 4
}
