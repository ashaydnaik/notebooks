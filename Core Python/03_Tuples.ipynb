{
 "cells": [
  {
   "cell_type": "markdown",
   "metadata": {},
   "source": [
    "Tuples are similar to lists but are immutable.\n",
    "\n",
    "The operators (in, $+$, and $*$) and built-in functions (len, max, and min) operate on them the same way as they do on lists because none of them modifies the original. \n",
    "\n",
    "Index and slice notation work the same way for obtaining elements or slices but can’t be used to add, remove, or replace elements. \n",
    "\n",
    "There are only two tuple methods: count and index. \n",
    "\n",
    "An important purpose of tuples is for use as keys for dictionaries. \n",
    "\n",
    "They’re  more efficient to use when you don’t need modifiability.\n",
    "\n",
    "( ) <br>\n",
    "(1, )\n",
    "\n",
    "A one-element tuple needs a comma.\n",
    "\n",
    "(1, 2, 3, 4, 5, 6, 7, 8, 12) <br>\n",
    "(1, \"two\", 3L, 4.0, \\[\"a\", \"b\"\\], (5, 6)) <br>\n",
    "\n",
    "A tuple, like a list, can contain a mixture of other types as its elements, including strings, tuples, lists, dictionaries, functions, file objects, and any type of number.\n",
    "\n",
    "A list can be converted to a tuple by using the built-in function tuple:"
   ]
  },
  {
   "cell_type": "code",
   "execution_count": 1,
   "metadata": {},
   "outputs": [
    {
     "data": {
      "text/plain": [
       "(1, 2, 3, 4)"
      ]
     },
     "execution_count": 1,
     "metadata": {},
     "output_type": "execute_result"
    }
   ],
   "source": [
    "x = [1, 2, 3, 4]\n",
    "tuple(x)"
   ]
  },
  {
   "cell_type": "markdown",
   "metadata": {},
   "source": [
    "Conversely, a tuple can be converted to a list by using the built-in function list:"
   ]
  },
  {
   "cell_type": "code",
   "execution_count": 3,
   "metadata": {},
   "outputs": [
    {
     "data": {
      "text/plain": [
       "[1, 2, 3, 4]"
      ]
     },
     "execution_count": 3,
     "metadata": {},
     "output_type": "execute_result"
    }
   ],
   "source": [
    "x = (1, 2, 3, 4)\n",
    "list(x)"
   ]
  }
 ],
 "metadata": {
  "kernelspec": {
   "display_name": "Python 3",
   "language": "python",
   "name": "python3"
  },
  "language_info": {
   "codemirror_mode": {
    "name": "ipython",
    "version": 3
   },
   "file_extension": ".py",
   "mimetype": "text/x-python",
   "name": "python",
   "nbconvert_exporter": "python",
   "pygments_lexer": "ipython3",
   "version": "3.8.5"
  }
 },
 "nbformat": 4,
 "nbformat_minor": 4
}
