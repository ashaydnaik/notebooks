{
 "cells": [
  {
   "cell_type": "markdown",
   "metadata": {},
   "source": [
    "Start a simple shapes module for a drawing program. \n",
    "\n",
    "Classes are defined by using the **class** keyword. \n",
    "\n",
    "The instance initializer method (constructor) for a class is always called __init__. <br>\n",
    "Instance variables x and y are created and initialized here. \n",
    "\n",
    "Methods, like functions, are defined by using the **def** keyword. <br>\n",
    "The first argument of any method is by convention called **self**. <br>\n",
    "When the method is invoked, **self** is set to the instance that invoked the method. \n",
    "\n",
    "A class must, in its initializer, explicitly call the initializer of its base class. \n",
    "\n",
    "The __str__ method is used by the print function. <br>\n",
    "\n",
    "Python file: **Learning/learn_oop/sh.py**"
   ]
  },
  {
   "cell_type": "markdown",
   "metadata": {},
   "source": [
    "\\>>> import sh <br>\n",
    "\n",
    "\\>>> c1 = sh.Circle() <br>\n",
    "\\>>> c2 = sh.Circle(5, 15, 20) <br>\n",
    "\n",
    "\\>>> print(c1) <br>\n",
    "Circle of radius 1 at coordinates (0, 0) <br>\n",
    "\n",
    "\\>>> print(c2) <br>\n",
    "Circle of radius 5 at coordinates (15, 20) <br>\n",
    "\n",
    "\\>>> c2.area() <br>\n",
    "78.53975 <br>\n",
    "\n",
    "\\>>> c2.move(5,6) <br>\n",
    "\\>>> print(c2) <br>\n",
    "Circle of radius 5 at coordinates (20, 26)"
   ]
  },
  {
   "cell_type": "markdown",
   "metadata": {},
   "source": [
    "The initializer is implicitly called, and a circle instance is created. \n",
    "\n",
    "The print function implicitly uses the special __str__ method. \n",
    "\n",
    "The move method of Circle’s parent class Shape is available to Circle instance. <br>\n",
    "A method is called by using attribute syntax on the object instance: **object.method()**. <br> \n",
    "The first (self) parameter is set implicitly."
   ]
  }
 ],
 "metadata": {
  "kernelspec": {
   "display_name": "Python 3",
   "language": "python",
   "name": "python3"
  },
  "language_info": {
   "codemirror_mode": {
    "name": "ipython",
    "version": 3
   },
   "file_extension": ".py",
   "mimetype": "text/x-python",
   "name": "python",
   "nbconvert_exporter": "python",
   "pygments_lexer": "ipython3",
   "version": "3.8.5"
  }
 },
 "nbformat": 4,
 "nbformat_minor": 4
}
