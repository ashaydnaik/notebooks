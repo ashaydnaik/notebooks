{
 "cells": [
  {
   "cell_type": "markdown",
   "metadata": {},
   "source": [
    "## Indentation and block structuring\n",
    "\n",
    "Python uses whitespace and indentation to determine block structure <br>\n",
    "(i.e. to determine what constitutes the body of a loop, the else clause of a conditional, and so on)."
   ]
  },
  {
   "cell_type": "markdown",
   "metadata": {},
   "source": [
    "## Differentiating comments\n",
    "\n",
    "Anything following a # symbol in a Python file is a comment and is disregarded by the language.<br> \n",
    "The obvious exception is a # in a string, which is just a character of that string:"
   ]
  },
  {
   "cell_type": "code",
   "execution_count": 5,
   "metadata": {},
   "outputs": [],
   "source": [
    "# Assign 5 to x\n",
    "x = 5\n",
    "x = 3 # Now x is 3 \n",
    "x = \"# This is not a comment\""
   ]
  },
  {
   "cell_type": "markdown",
   "metadata": {},
   "source": [
    "## Variables and assignments\n",
    "\n",
    "Python code to create a variable called x and assign the value 5 to that variable is:"
   ]
  },
  {
   "cell_type": "code",
   "execution_count": 6,
   "metadata": {},
   "outputs": [],
   "source": [
    "x = 5"
   ]
  },
  {
   "cell_type": "markdown",
   "metadata": {},
   "source": [
    "Neither a variable type declaration nor an end-of-line delimiter is necessary. <br>\n",
    "Variables are created automatically when they’re first assigned. <br>\n",
    "They can refer to any built-in data type, user-defined object, function or module.\n",
    "\n",
    "The name *variable* is somewhat misleading in Python; *name* or *label* would be more accurate. \n",
    "\n",
    "A variable is **not** a container that stores a value. <br>\n",
    "It is a reference to an object in the Python interpreter’s namespace. \n",
    "\n",
    "Any number of variables can refer to the same object.<br> \n",
    "When that object changes, the value referred to by all of those variables also changes:"
   ]
  },
  {
   "cell_type": "code",
   "execution_count": 7,
   "metadata": {},
   "outputs": [
    {
     "name": "stdout",
     "output_type": "stream",
     "text": [
      "[1, 5, 3] [1, 5, 3] [1, 5, 3]\n"
     ]
    }
   ],
   "source": [
    "a = [1, 2, 3]\n",
    "b = a\n",
    "c = b\n",
    "b[1] = 5\n",
    "print(a, b, c)"
   ]
  },
  {
   "cell_type": "markdown",
   "metadata": {},
   "source": [
    "If the variables are referring to constants or immutable values, this distinction isn’t quite as clear:"
   ]
  },
  {
   "cell_type": "code",
   "execution_count": 8,
   "metadata": {},
   "outputs": [
    {
     "name": "stdout",
     "output_type": "stream",
     "text": [
      "1 5 1\n"
     ]
    }
   ],
   "source": [
    "a = 1\n",
    "b = a\n",
    "c = b\n",
    "b = 5\n",
    "print(a, b, c)"
   ]
  },
  {
   "cell_type": "markdown",
   "metadata": {},
   "source": [
    "Python variables can be set to any object, irrespective of the type of object they were initially set to."
   ]
  },
  {
   "cell_type": "code",
   "execution_count": 9,
   "metadata": {},
   "outputs": [
    {
     "name": "stdout",
     "output_type": "stream",
     "text": [
      "Hello\n"
     ]
    }
   ],
   "source": [
    "x = \"Hello\"\n",
    "print(x)"
   ]
  },
  {
   "cell_type": "code",
   "execution_count": 10,
   "metadata": {},
   "outputs": [
    {
     "name": "stdout",
     "output_type": "stream",
     "text": [
      "5\n"
     ]
    }
   ],
   "source": [
    "x = 5\n",
    "print(x)"
   ]
  },
  {
   "cell_type": "markdown",
   "metadata": {},
   "source": [
    "The **del** statement deletes the variable."
   ]
  },
  {
   "cell_type": "code",
   "execution_count": 12,
   "metadata": {},
   "outputs": [],
   "source": [
    "del x"
   ]
  },
  {
   "cell_type": "markdown",
   "metadata": {},
   "source": [
    "## Expressions\n",
    "\n",
    "Python supports arithmetic and similar expressions. <br> \n",
    "The following code calculates the average of 3 and 5, leaving the result in the variable z:"
   ]
  },
  {
   "cell_type": "code",
   "execution_count": 14,
   "metadata": {},
   "outputs": [],
   "source": [
    "x = 3\n",
    "y = 5\n",
    "z = (x + y) / 2"
   ]
  },
  {
   "cell_type": "markdown",
   "metadata": {},
   "source": [
    "Arithmetic operators involving only integers do not always return an integer. \n",
    "\n",
    "Even though all the values are integers, division (starting with Python 3) returns a floating-point number, so the fractional part isn’t truncated. \n",
    "\n",
    "If you want traditional integer division returning a truncated integer, you can use // instead."
   ]
  },
  {
   "cell_type": "markdown",
   "metadata": {},
   "source": [
    "## Built-in Datatypes\n",
    "\n",
    "Python has following built-in data types:\n",
    "* integers \n",
    "* floats\n",
    "* complex numbers\n",
    "* strings\n",
    "* lists\n",
    "* tuples\n",
    "* dictionaries\n",
    "* file objects"
   ]
  },
  {
   "cell_type": "markdown",
   "metadata": {},
   "source": [
    "## The None value\n",
    "\n",
    "Python has a special basic data type that defines a single special data object called **None**.<br>\n",
    "**None** is used to represent an empty value. \n",
    "\n",
    "A procedure in Python is just a function that doesn’t explicitly return a value, which means that by default, it returns **None**.\n",
    "\n",
    "**None** is often useful in day-to-day Python programming as a placeholder to indicate a point in a data structure where meaningful data will eventually be found, even though that data hasn’t yet been calculated. \n",
    "\n",
    "You can easily test for the presence of **None** because there’s only one instance of **None** in the entire Python system (all references to **None** point to the same object), and **None** is equivalent only to itself.\n"
   ]
  },
  {
   "cell_type": "markdown",
   "metadata": {},
   "source": [
    "## Getting input from the user\n",
    "\n",
    "Use the input() function to get input from the user. <br>\n",
    "Use the prompt string you want to display to the user as input’s parameter:"
   ]
  },
  {
   "cell_type": "code",
   "execution_count": 1,
   "metadata": {},
   "outputs": [
    {
     "name": "stdout",
     "output_type": "stream",
     "text": [
      "Name? Jane\n"
     ]
    }
   ],
   "source": [
    "name = input(\"Name? \")"
   ]
  },
  {
   "cell_type": "code",
   "execution_count": 2,
   "metadata": {},
   "outputs": [
    {
     "name": "stdout",
     "output_type": "stream",
     "text": [
      "Jane\n"
     ]
    }
   ],
   "source": [
    "print(name)"
   ]
  },
  {
   "cell_type": "code",
   "execution_count": 3,
   "metadata": {},
   "outputs": [
    {
     "name": "stdout",
     "output_type": "stream",
     "text": [
      "Age? 28\n"
     ]
    }
   ],
   "source": [
    "age = int(input(\"Age? \"))"
   ]
  },
  {
   "cell_type": "code",
   "execution_count": 4,
   "metadata": {},
   "outputs": [
    {
     "name": "stdout",
     "output_type": "stream",
     "text": [
      "28\n"
     ]
    }
   ],
   "source": [
    "print(age)"
   ]
  },
  {
   "cell_type": "markdown",
   "metadata": {},
   "source": [
    "## Basic Python Style\n",
    "\n",
    "Preferred stylistic conventions for Python are contained in Python Enhancement Proposal (PEP) 8 (www.python.org/dev/peps/pep-0008/).\n",
    "\n",
    "| Situation | Suggestion | Example |\n",
    "|:-----------|:------------|:---------|\n",
    "| Module/package names| Short, all lowercase, underscores only if needed | imp, sys |\n",
    "| Function names | All lowercase, underscores_for_readability | foo(), my_func() |\n",
    "| Variable names | All lowercase, underscores_for_readability | my_var |\n",
    "| Class names | CapitalizeEachWord | MyClass |\n",
    "| Constant names | ALL_CAPS_WITH_UNDERSCORES | PI, TAX_RATE |\n",
    "| Indentation | Four spaces per level, no tabs | |\n",
    "| Comparisons | Don't compare explicitly to True or False | if my_var: <br> if not my_var: |"
   ]
  }
 ],
 "metadata": {
  "kernelspec": {
   "display_name": "Python 3",
   "language": "python",
   "name": "python3"
  },
  "language_info": {
   "codemirror_mode": {
    "name": "ipython",
    "version": 3
   },
   "file_extension": ".py",
   "mimetype": "text/x-python",
   "name": "python",
   "nbconvert_exporter": "python",
   "pygments_lexer": "ipython3",
   "version": "3.8.5"
  }
 },
 "nbformat": 4,
 "nbformat_minor": 4
}
