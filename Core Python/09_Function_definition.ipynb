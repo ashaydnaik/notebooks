{
 "cells": [
  {
   "cell_type": "code",
   "execution_count": 1,
   "metadata": {},
   "outputs": [
    {
     "data": {
      "text/plain": [
       "15"
      ]
     },
     "execution_count": 1,
     "metadata": {},
     "output_type": "execute_result"
    }
   ],
   "source": [
    "def funct1(x, y, z):\n",
    "    value = x + 2*y + z**2\n",
    "    if value > 0:\n",
    "        return value\n",
    "    else:\n",
    "        return 0\n",
    "\n",
    "u, v = 3, 4\n",
    "funct1(u, v, 2)"
   ]
  },
  {
   "cell_type": "code",
   "execution_count": 4,
   "metadata": {},
   "outputs": [
    {
     "data": {
      "text/plain": [
       "23"
      ]
     },
     "execution_count": 4,
     "metadata": {},
     "output_type": "execute_result"
    }
   ],
   "source": [
    "funct1(u, z = v, y = 2)"
   ]
  },
  {
   "cell_type": "code",
   "execution_count": 5,
   "metadata": {},
   "outputs": [
    {
     "data": {
      "text/plain": [
       "21"
      ]
     },
     "execution_count": 5,
     "metadata": {},
     "output_type": "execute_result"
    }
   ],
   "source": [
    "def funct2(x, y = 1, z = 1):\n",
    "    return x + 2*y + z**2\n",
    "\n",
    "funct2(3, z = 4)"
   ]
  },
  {
   "cell_type": "code",
   "execution_count": 6,
   "metadata": {},
   "outputs": [
    {
     "name": "stdout",
     "output_type": "stream",
     "text": [
      "(2, 1, 1)\n"
     ]
    }
   ],
   "source": [
    "def funct3(x, y = 1, z = 1, *tup):\n",
    "    print((x, y, z) + tup)\n",
    "\n",
    "funct3(2)"
   ]
  },
  {
   "cell_type": "code",
   "execution_count": 7,
   "metadata": {},
   "outputs": [
    {
     "name": "stdout",
     "output_type": "stream",
     "text": [
      "(1, 2, 3, 4, 5, 6, 7, 8, 9)\n"
     ]
    }
   ],
   "source": [
    "funct3(1, 2, 3, 4, 5, 6, 7, 8, 9)"
   ]
  },
  {
   "cell_type": "code",
   "execution_count": 8,
   "metadata": {},
   "outputs": [
    {
     "name": "stdout",
     "output_type": "stream",
     "text": [
      "1 2 3 {'m': 5, 'n': 9}\n"
     ]
    }
   ],
   "source": [
    "def funct4(x, y=1, z=1, **kwargs):\n",
    "    print(x, y, z, kwargs)\n",
    "    \n",
    "funct4(1, 2, m = 5, n = 9, z = 3)"
   ]
  },
  {
   "cell_type": "markdown",
   "metadata": {},
   "source": [
    "Functions are defined by using the def statement. \n",
    "\n",
    "The return statement is what a function uses to return a value. This value can be of any type. <br>\n",
    "If no return statement is encountered, Python’s None value is returned. \n",
    "\n",
    "Function arguments can be entered either by position or by name (keyword). <br>\n",
    "Here, z and y are entered by name. \n",
    "\n",
    "Function parameters can be defined with defaults that are used if a function call leaves them out. \n",
    "\n",
    "A special parameter can be defined that collects all extra positional arguments in a function call into a tuple. \n",
    "\n",
    "A special parameter can be defined that collects all extra keyword arguments in a function call into a dictionary."
   ]
  },
  {
   "cell_type": "markdown",
   "metadata": {},
   "source": [
    "# Finding the maximum\n",
    "\n",
    "Write a function that returns the index and the actual value of the maximum element within a list (if tie-breaking is needed, we return the last maximum element)."
   ]
  },
  {
   "cell_type": "code",
   "execution_count": 5,
   "metadata": {},
   "outputs": [],
   "source": [
    "def get_max(my_list):\n",
    "    running_max_index = 0\n",
    "    for index, item in enumerate(my_list):\n",
    "        if item >= my_list[running_max_index]:\n",
    "            running_max_index = index\n",
    "    return running_max_index, my_list[running_max_index]"
   ]
  },
  {
   "cell_type": "code",
   "execution_count": 6,
   "metadata": {},
   "outputs": [
    {
     "data": {
      "text/plain": [
       "(1, 3)"
      ]
     },
     "execution_count": 6,
     "metadata": {},
     "output_type": "execute_result"
    }
   ],
   "source": [
    "get_max([1, 3, 2])"
   ]
  },
  {
   "cell_type": "code",
   "execution_count": 8,
   "metadata": {},
   "outputs": [
    {
     "data": {
      "text/plain": [
       "(7, 100)"
      ]
     },
     "execution_count": 8,
     "metadata": {},
     "output_type": "execute_result"
    }
   ],
   "source": [
    "get_max([1, 3, 56, 29, 100, 99, 3, 100, 10, 23])"
   ]
  },
  {
   "cell_type": "markdown",
   "metadata": {},
   "source": [
    "# Recursion"
   ]
  },
  {
   "cell_type": "code",
   "execution_count": 9,
   "metadata": {},
   "outputs": [
    {
     "data": {
      "text/plain": [
       "6"
      ]
     },
     "execution_count": 9,
     "metadata": {},
     "output_type": "execute_result"
    }
   ],
   "source": [
    "# Compute a sum of integers in a list\n",
    "\n",
    "def find_sum(my_list):\n",
    "    if len(my_list) == 1:\n",
    "        return my_list[0]\n",
    "    return find_sum(my_list[:-1]) + my_list[-1]\n",
    "\n",
    "find_sum([1, 2, 3])"
   ]
  },
  {
   "cell_type": "code",
   "execution_count": 10,
   "metadata": {},
   "outputs": [
    {
     "data": {
      "text/plain": [
       "1"
      ]
     },
     "execution_count": 10,
     "metadata": {},
     "output_type": "execute_result"
    }
   ],
   "source": [
    "find_sum([1])"
   ]
  },
  {
   "cell_type": "markdown",
   "metadata": {},
   "source": [
    "# The Tower of Hanoi\n",
    "\n",
    "There are three disk stacks where disks can be placed in and $n$ disks, all of different sizes. At the beginning, the disks are stacked in ascending order (the largest at the bottom) in one single stack. At each step of the game, we can take the top disk of one stack and put it at the top of another stack (which can be an empty stack) with the condition that no disk can be placed on top of a disk that is smaller than it. Compute the minimum number of moves necessary to move the entire stack of $n$ disk from one stack to another. \n",
    "\n",
    "In order to move the n disks, we need to move the top n - 1 disks to another stack, move the bottom, biggest disk to the last stack, and finally move the n - 1 disks in the other stack to the same stack as the biggest disk. \n",
    "\n",
    "If the minimum number of steps taken to move (n - 1) disks from one stack to another, is  denoted as S(n - 1), then to move n disks, we need 2 S(n - 1) + 1 steps."
   ]
  },
  {
   "cell_type": "code",
   "execution_count": 11,
   "metadata": {},
   "outputs": [],
   "source": [
    "def solve(n):\n",
    "    if n == 1:\n",
    "        return 1\n",
    "    return 2 * solve(n - 1) + 1"
   ]
  },
  {
   "cell_type": "code",
   "execution_count": 14,
   "metadata": {},
   "outputs": [
    {
     "name": "stdout",
     "output_type": "stream",
     "text": [
      "True\n"
     ]
    }
   ],
   "source": [
    "# verify expected output 2^n - 1\n",
    "\n",
    "print(solve(3) == 2**3 - 1)"
   ]
  },
  {
   "cell_type": "code",
   "execution_count": 15,
   "metadata": {},
   "outputs": [
    {
     "name": "stdout",
     "output_type": "stream",
     "text": [
      "True\n"
     ]
    }
   ],
   "source": [
    "print(solve(6) == 2**6 - 1)"
   ]
  },
  {
   "cell_type": "markdown",
   "metadata": {},
   "source": [
    "# N-Queens Problems\n",
    "\n",
    "Place n queen pieces in the game of chess on an n x n chessboard so that no queen piece can attack another i.e. find a combination of locations for the queen pieces so that any two given queens are in different rows, columns, and diagonals.\n",
    "\n",
    "Design a backtracking algorithm: <br>\n",
    "For each row, iteratively go through all its cells. If a queen can be placed in any of its cells, move to next row. Else return False.\n",
    "\n",
    "The backtracking algorithm is designed to search for a valid solution by iteratively making a move toward a potential solution (placing a queen piece in a safe cell), and if the algorithm somehow reaches an invalid state, it will backtrack by undoing its previous move (by removing the last piece we placed) and looking for a new move to make. \n",
    "\n",
    "Backtracking is closely related to recursion, and that is why we chose to implement our algorithm using a recursive function, thus consolidating our understanding of the general concept."
   ]
  },
  {
   "cell_type": "markdown",
   "metadata": {},
   "source": [
    "(1) Declare a variable named N to represent the size of our chessboard, as well as the number of queen pieces we need to place on the board."
   ]
  },
  {
   "cell_type": "code",
   "execution_count": 20,
   "metadata": {},
   "outputs": [],
   "source": [
    "N = 8"
   ]
  },
  {
   "cell_type": "markdown",
   "metadata": {},
   "source": [
    "(2) A chessboard will be represented as a 2D, n x n list with 0 representing an empty cell and 1 representing a cell with a queen piece. Now, in a new code cell, implement a function that takes in a list of this form and print it out in a nice format."
   ]
  },
  {
   "cell_type": "code",
   "execution_count": 21,
   "metadata": {},
   "outputs": [],
   "source": [
    "# Print out the board in a nice format.\n",
    "def display_solution(board):\n",
    "    for i in range(N):\n",
    "        for j in range(N):\n",
    "            print(board[i][j], end=' ')\n",
    "        print()"
   ]
  },
  {
   "cell_type": "markdown",
   "metadata": {},
   "source": [
    "(3) In the next cell, write a function that takes in a board, a row number, and a column number. The function should check to see whether a new queen piece can be placed on this board at the location given by the row and column numbers.\n",
    "\n",
    "Note that since we are iteratively placing pieces rows to rows, each time we check to see whether a new piece can be placed at a given location, we only need to check for the rows above the location.\n",
    "\n",
    "(4) In the same code cell, implement a function that takes in a board and a row number. This function should go through all the cells in the given row and check to see whether a new queen piece can be placed at a particular cell (using the check_next() function written in the preceding step).\n",
    "\n",
    "For such a cell, place a queen in that cell (by changing the cell value to 1) and recursively call the function itself with the next row number. If a final solution is valid, return True; otherwise, remove the queen piece from the cell (by changing it back to 0).\n",
    "\n",
    "If, after we have considered all the cells of the given row, no valid solution is found, return False to indicate an invalid state. The function should also have a conditional at the beginning to check for whether the row number is larger than the board size N, in which case we simply return True to indicate that we have reached a valid final solution.\n",
    "\n",
    "(5) In the same code cell, write a final solver function that wraps around the two functions, check_next() and recur_generate_solution(). In other words, the two functions should be subfunctions of the function we are writing.\n",
    "\n",
    "The function should initialize an empty 2D n x n list (representing the chessboard) and call the recur_generate_solution() function with row number 0.\n",
    "\n",
    "The function should also print out the solution at the end:"
   ]
  },
  {
   "cell_type": "code",
   "execution_count": 22,
   "metadata": {},
   "outputs": [],
   "source": [
    "# Generate a valid solution.\n",
    "def generate_solution():\n",
    "    # Check if a queen can be placed in the position.\n",
    "    def check_next(board, row, col):\n",
    "        # Check the current column.\n",
    "        for i in range(row):\n",
    "            if board[i][col] == 1:\n",
    "                return False\n",
    "\n",
    "        # Check the upper-left diagonal.\n",
    "        for i, j in zip(range(row, -1, -1), range(col, -1, -1)):\n",
    "            if board[i][j] == 1:\n",
    "                return False\n",
    "\n",
    "        # Check the upper-right diagonal.\n",
    "        for i, j in zip(range(row, -1, -1), range(col, N)):\n",
    "            if board[i][j] == 1:\n",
    "                return False\n",
    "\n",
    "        return True\n",
    "\n",
    "    # Recursively generate a solution.\n",
    "    def recur_generate_solution(board, row_id):\n",
    "        # Return if we have reached the last row.\n",
    "        if row_id >= N:\n",
    "            return True\n",
    "\n",
    "        # Iteratively try out cells in the current row.\n",
    "        for i in range(N):\n",
    "            if check_next(board, row_id, i):\n",
    "                board[row_id][i] = 1  # try to place a queen at the current cell\n",
    "\n",
    "                # Return if a valid solution is found.\n",
    "                final_board = recur_generate_solution(board, row_id + 1)\n",
    "                if final_board:\n",
    "                    return True\n",
    "\n",
    "                board[row_id][i] = 0  # take the queen out of the current cell\n",
    "\n",
    "        # When the current board has no valid solutions.\n",
    "        return False\n",
    "\n",
    "    # Start out with en empty board.\n",
    "    my_board = [[0 for _ in range(N)] for __ in range(N)]\n",
    "    final_solution = recur_generate_solution(my_board, 0)\n",
    "\n",
    "    # Display the final solution.\n",
    "    if final_solution is False:\n",
    "        print('A solution cannot be found.')\n",
    "    else:\n",
    "        print('A solution was found.')\n",
    "        display_solution(my_board)"
   ]
  },
  {
   "cell_type": "code",
   "execution_count": 23,
   "metadata": {},
   "outputs": [
    {
     "name": "stdout",
     "output_type": "stream",
     "text": [
      "A solution was found.\n",
      "1 0 0 0 0 0 0 0 \n",
      "0 0 0 0 1 0 0 0 \n",
      "0 0 0 0 0 0 0 1 \n",
      "0 0 0 0 0 1 0 0 \n",
      "0 0 1 0 0 0 0 0 \n",
      "0 0 0 0 0 0 1 0 \n",
      "0 1 0 0 0 0 0 0 \n",
      "0 0 0 1 0 0 0 0 \n"
     ]
    }
   ],
   "source": [
    "generate_solution()"
   ]
  }
 ],
 "metadata": {
  "kernelspec": {
   "display_name": "Python 3",
   "language": "python",
   "name": "python3"
  },
  "language_info": {
   "codemirror_mode": {
    "name": "ipython",
    "version": 3
   },
   "file_extension": ".py",
   "mimetype": "text/x-python",
   "name": "python",
   "nbconvert_exporter": "python",
   "pygments_lexer": "ipython3",
   "version": "3.8.5"
  }
 },
 "nbformat": 4,
 "nbformat_minor": 4
}
