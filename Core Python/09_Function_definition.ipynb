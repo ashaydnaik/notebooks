{
 "cells": [
  {
   "cell_type": "code",
   "execution_count": 1,
   "metadata": {},
   "outputs": [
    {
     "data": {
      "text/plain": [
       "15"
      ]
     },
     "execution_count": 1,
     "metadata": {},
     "output_type": "execute_result"
    }
   ],
   "source": [
    "def funct1(x, y, z):\n",
    "    value = x + 2*y + z**2\n",
    "    if value > 0:\n",
    "        return value\n",
    "    else:\n",
    "        return 0\n",
    "\n",
    "u, v = 3, 4\n",
    "funct1(u, v, 2)"
   ]
  },
  {
   "cell_type": "code",
   "execution_count": 4,
   "metadata": {},
   "outputs": [
    {
     "data": {
      "text/plain": [
       "23"
      ]
     },
     "execution_count": 4,
     "metadata": {},
     "output_type": "execute_result"
    }
   ],
   "source": [
    "funct1(u, z = v, y = 2)"
   ]
  },
  {
   "cell_type": "code",
   "execution_count": 5,
   "metadata": {},
   "outputs": [
    {
     "data": {
      "text/plain": [
       "21"
      ]
     },
     "execution_count": 5,
     "metadata": {},
     "output_type": "execute_result"
    }
   ],
   "source": [
    "def funct2(x, y = 1, z = 1):\n",
    "    return x + 2*y + z**2\n",
    "\n",
    "funct2(3, z = 4)"
   ]
  },
  {
   "cell_type": "code",
   "execution_count": 6,
   "metadata": {},
   "outputs": [
    {
     "name": "stdout",
     "output_type": "stream",
     "text": [
      "(2, 1, 1)\n"
     ]
    }
   ],
   "source": [
    "def funct3(x, y = 1, z = 1, *tup):\n",
    "    print((x, y, z) + tup)\n",
    "\n",
    "funct3(2)"
   ]
  },
  {
   "cell_type": "code",
   "execution_count": 7,
   "metadata": {},
   "outputs": [
    {
     "name": "stdout",
     "output_type": "stream",
     "text": [
      "(1, 2, 3, 4, 5, 6, 7, 8, 9)\n"
     ]
    }
   ],
   "source": [
    "funct3(1, 2, 3, 4, 5, 6, 7, 8, 9)"
   ]
  },
  {
   "cell_type": "code",
   "execution_count": 8,
   "metadata": {},
   "outputs": [
    {
     "name": "stdout",
     "output_type": "stream",
     "text": [
      "1 2 3 {'m': 5, 'n': 9}\n"
     ]
    }
   ],
   "source": [
    "def funct4(x, y=1, z=1, **kwargs):\n",
    "    print(x, y, z, kwargs)\n",
    "    \n",
    "funct4(1, 2, m = 5, n = 9, z = 3)"
   ]
  },
  {
   "cell_type": "markdown",
   "metadata": {},
   "source": [
    "Functions are defined by using the def statement. \n",
    "\n",
    "The return statement is what a function uses to return a value. This value can be of any type. <br>\n",
    "If no return statement is encountered, Python’s None value is returned. \n",
    "\n",
    "Function arguments can be entered either by position or by name (keyword). <br>\n",
    "Here, z and y are entered by name. \n",
    "\n",
    "Function parameters can be defined with defaults that are used if a function call leaves them out. \n",
    "\n",
    "A special parameter can be defined that collects all extra positional arguments in a function call into a tuple. \n",
    "\n",
    "A special parameter can be defined that collects all extra keyword arguments in a function call into a dictionary."
   ]
  }
 ],
 "metadata": {
  "kernelspec": {
   "display_name": "Python 3",
   "language": "python",
   "name": "python3"
  },
  "language_info": {
   "codemirror_mode": {
    "name": "ipython",
    "version": 3
   },
   "file_extension": ".py",
   "mimetype": "text/x-python",
   "name": "python",
   "nbconvert_exporter": "python",
   "pygments_lexer": "ipython3",
   "version": "3.8.5"
  }
 },
 "nbformat": 4,
 "nbformat_minor": 4
}
