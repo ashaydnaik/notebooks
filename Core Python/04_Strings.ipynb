{
 "cells": [
  {
   "cell_type": "markdown",
   "metadata": {},
   "source": [
    "There are many options for delimiting strings:\n",
    "\n",
    "\"A string in double quotes can contain 'single quote' characters.\"\n",
    "\n",
    "'A string in single quotes can contain \"double quote\" characters.'\n",
    "\n",
    "'''\\tA string which starts with a tab; ends with a newline character.\\n'''\n",
    "\n",
    "\"\"\"This is a triple double quoted string, the only kind that can <br>\n",
    "            contain real newlines.\"\"\""
   ]
  },
  {
   "cell_type": "markdown",
   "metadata": {},
   "source": [
    "Strings can be delimited by single (' '), double (\" \"), triple single (''' '''), or triple double (\"\"\" \"\"\") quotations \n",
    "\n",
    "Strings can contain tab (\\t) and newline (\\n) characters. \n",
    "\n",
    "Strings are also immutable. <br>\n",
    "The operators and functions that work with them return new strings derived from the original. \n",
    "\n",
    "The operators (in, $+$, and $*$) and built-in functions (len, max, and min) operate on strings as they do on lists and tuples. \n",
    "\n",
    "Index and slice notation works the same way for obtaining elements or slices but can’t be used to add, remove, or replace elements.\n",
    "\n",
    "Strings have several methods to work with their contents. <br>\n",
    "The **re** library module contains functions for working with strings:"
   ]
  },
  {
   "cell_type": "code",
   "execution_count": 2,
   "metadata": {},
   "outputs": [
    {
     "data": {
      "text/plain": [
       "['live', 'and', 'let', 'live']"
      ]
     },
     "execution_count": 2,
     "metadata": {},
     "output_type": "execute_result"
    }
   ],
   "source": [
    "x = \"live and     let \\t   \\tlive\"\n",
    "x.split()"
   ]
  },
  {
   "cell_type": "code",
   "execution_count": 3,
   "metadata": {},
   "outputs": [
    {
     "data": {
      "text/plain": [
       "'live and enjoy life'"
      ]
     },
     "execution_count": 3,
     "metadata": {},
     "output_type": "execute_result"
    }
   ],
   "source": [
    "x.replace(\"    let \\t   \\tlive\", \"enjoy life\")"
   ]
  },
  {
   "cell_type": "code",
   "execution_count": 4,
   "metadata": {},
   "outputs": [
    {
     "data": {
      "text/plain": [
       "'live and let live'"
      ]
     },
     "execution_count": 4,
     "metadata": {},
     "output_type": "execute_result"
    }
   ],
   "source": [
    "import re\n",
    "regexpr = re.compile(r\"[\\t ]+\")\n",
    "regexpr.sub(\" \", x)"
   ]
  },
  {
   "cell_type": "markdown",
   "metadata": {},
   "source": [
    "The print function outputs strings. <br>\n",
    "Other Python data types can be easily converted to strings and formatted:"
   ]
  },
  {
   "cell_type": "code",
   "execution_count": 5,
   "metadata": {},
   "outputs": [
    {
     "name": "stdout",
     "output_type": "stream",
     "text": [
      "The constant e is: 2.718 and the list x is: [1, 'two', 3, 4.0, ['a', 'b'], (5, 6)]\n"
     ]
    }
   ],
   "source": [
    "e = 2.718\n",
    "x = [1, \"two\", 3, 4.0, [\"a\", \"b\"], (5, 6)]\n",
    "print(\"The constant e is:\", e, \"and the list x is:\", x)"
   ]
  },
  {
   "cell_type": "markdown",
   "metadata": {},
   "source": [
    "Objects are automatically converted to string representations for printing."
   ]
  },
  {
   "cell_type": "code",
   "execution_count": 6,
   "metadata": {},
   "outputs": [
    {
     "name": "stdout",
     "output_type": "stream",
     "text": [
      "the value of e is: 2.72\n"
     ]
    }
   ],
   "source": [
    "print(\"the value of %s is: %.2f\" % (\"e\", e))"
   ]
  },
  {
   "cell_type": "markdown",
   "metadata": {},
   "source": [
    "The % operator provides formatting capability."
   ]
  }
 ],
 "metadata": {
  "kernelspec": {
   "display_name": "Python 3",
   "language": "python",
   "name": "python3"
  },
  "language_info": {
   "codemirror_mode": {
    "name": "ipython",
    "version": 3
   },
   "file_extension": ".py",
   "mimetype": "text/x-python",
   "name": "python",
   "nbconvert_exporter": "python",
   "pygments_lexer": "ipython3",
   "version": "3.8.5"
  }
 },
 "nbformat": 4,
 "nbformat_minor": 4
}
