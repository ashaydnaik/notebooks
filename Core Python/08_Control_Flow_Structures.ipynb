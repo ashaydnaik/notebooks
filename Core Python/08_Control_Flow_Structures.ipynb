{
 "cells": [
  {
   "cell_type": "markdown",
   "metadata": {},
   "source": [
    "Python has several ways of expressing Boolean values.\n",
    "\n",
    "The Boolean constant **False**, **0**, the Python nil value **None**, and empty values (for example, the empty list \\[\\] or empty string \"\") are all taken as **False**. \n",
    "\n",
    "The Boolean constant **True** and everything else is considered **True**.\n",
    "\n",
    "The following all return True or False:\n",
    "* comparison operators (<, <=, ==, >, >=, !=, is, is not, in, not in) \n",
    "* logical operators (and, not, or) "
   ]
  },
  {
   "cell_type": "markdown",
   "metadata": {},
   "source": [
    "## The if-elif-else statement ##"
   ]
  },
  {
   "cell_type": "code",
   "execution_count": 2,
   "metadata": {},
   "outputs": [
    {
     "name": "stdout",
     "output_type": "stream",
     "text": [
      "5 0 10\n"
     ]
    }
   ],
   "source": [
    "x = 5\n",
    "\n",
    "if x < 5:\n",
    "    y = -1\n",
    "    z = 5 \n",
    "elif x > 5:\n",
    "    y = 1\n",
    "    z = 11 \n",
    "else:\n",
    "    y = 0\n",
    "    z = 10\n",
    "\n",
    "print(x, y, z)"
   ]
  },
  {
   "cell_type": "markdown",
   "metadata": {},
   "source": [
    "## The while loop"
   ]
  },
  {
   "cell_type": "code",
   "execution_count": 3,
   "metadata": {},
   "outputs": [
    {
     "name": "stdout",
     "output_type": "stream",
     "text": [
      "60 40\n"
     ]
    }
   ],
   "source": [
    "u, v, x, y = 0, 0, 100, 30\n",
    "\n",
    "while x > y:\n",
    "    u = u + y \n",
    "    x = x - y\n",
    "    if x < y + 2:\n",
    "        v = v + x\n",
    "        x = 0 \n",
    "    else:\n",
    "        v = v + y + 2\n",
    "        x = x - y - 2 \n",
    "print(u, v)"
   ]
  },
  {
   "cell_type": "markdown",
   "metadata": {},
   "source": [
    "## The for loop"
   ]
  },
  {
   "cell_type": "code",
   "execution_count": 4,
   "metadata": {},
   "outputs": [
    {
     "name": "stdout",
     "output_type": "stream",
     "text": [
      "found an integer divisible by seven: 49\n"
     ]
    }
   ],
   "source": [
    "item_list = [3, \"string1\", 23, 14.0, \"string2\", 49, 64, 70]\n",
    "for x in item_list:\n",
    "    if not isinstance(x, int):\n",
    "        continue\n",
    "    if not x % 7:\n",
    "        print(\"found an integer divisible by seven: %d\" % x)\n",
    "        break"
   ]
  }
 ],
 "metadata": {
  "kernelspec": {
   "display_name": "Python 3",
   "language": "python",
   "name": "python3"
  },
  "language_info": {
   "codemirror_mode": {
    "name": "ipython",
    "version": 3
   },
   "file_extension": ".py",
   "mimetype": "text/x-python",
   "name": "python",
   "nbconvert_exporter": "python",
   "pygments_lexer": "ipython3",
   "version": "3.8.5"
  }
 },
 "nbformat": 4,
 "nbformat_minor": 4
}
