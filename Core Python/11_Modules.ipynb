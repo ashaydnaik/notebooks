{
 "cells": [
  {
   "cell_type": "markdown",
   "metadata": {},
   "source": [
    "Create a simple module with one function that prompts the user to enter a filename and determines the num- ber of times that words occur in this file.\n",
    "\n",
    "Python file: **Learning/learn_modules/wo.py** <br>\n",
    "Test file: **Learning/learn_modules/test_wo.txt**\n",
    "\n",
    "\n",
    "\\>>> import wo <br>\n",
    "\\>>> wo.words_occur() <br>\n",
    "Enter the name of the file: test_wo.txt <br>\n",
    "File test_wo.txt has 9 words (8 are unique) <br>\n",
    "{'John': 2, 'met': 1, 'Rob': 1, 'with': 1, 'Harry': 1, 'who': 1, 'spoke': 1, 'to': 1}"
   ]
  },
  {
   "cell_type": "markdown",
   "metadata": {},
   "source": [
    "Documentation strings, or docstrings, are standard ways of documenting modules, functions, methods, and classes. \n",
    "\n",
    "Comments are anything beginning with a # character. \n",
    "\n",
    "**read** returns a string containing all the characters in a file <br>\n",
    "**split** returns a list of the words of a string “split out” based on whitespace \n",
    "\n",
    "You can use a \\ to break a long statement across multiple lines. \n",
    "\n",
    "This **if** statement allows the program to be run as a script by typing python wo.py at a command line "
   ]
  },
  {
   "cell_type": "markdown",
   "metadata": {},
   "source": [
    "Note that if you change the file wo.py on disk, import won’t bring your changes into the same interactive session. You use the reload function from the imp library in this situation:\n",
    "\n",
    "\\>>> import imp <br>\n",
    "\\>>> imp.reload(wo) <br>\n",
    "<module 'wo'>\n",
    "\n",
    "For larger projects, there is a generalization of the module concept called *packages*, which allows you to easily group modules in a directory or directory subtree and then import and hierarchically refer to them by using a **package.subpackage.module** syntax. \n",
    "\n",
    "This entails little more than creating a possibly empty initialization file for each package or subpackage."
   ]
  },
  {
   "cell_type": "markdown",
   "metadata": {},
   "source": [
    "## Minimizing from \\<module> import $*$\n",
    "\n",
    "\n",
    "The **math** and **cmath** modules are a good example of why to minimize the use of the **from \\<module> import $*$** form of the **import** statement. \n",
    "\n",
    "If you used it to import first the **math** module and then the **cmath** module, the commonly named functions in cmath would override those of math. \n",
    "\n",
    "It’s also more work for someone reading your code to figure out the source of the specific functions you use. \n",
    "\n",
    "Some modules are explicitly designed to use this form of import."
   ]
  }
 ],
 "metadata": {
  "kernelspec": {
   "display_name": "Python 3",
   "language": "python",
   "name": "python3"
  },
  "language_info": {
   "codemirror_mode": {
    "name": "ipython",
    "version": 3
   },
   "file_extension": ".py",
   "mimetype": "text/x-python",
   "name": "python",
   "nbconvert_exporter": "python",
   "pygments_lexer": "ipython3",
   "version": "3.8.5"
  }
 },
 "nbformat": 4,
 "nbformat_minor": 4
}
