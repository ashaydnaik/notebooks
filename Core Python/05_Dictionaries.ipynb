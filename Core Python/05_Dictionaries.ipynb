{
 "cells": [
  {
   "cell_type": "markdown",
   "metadata": {},
   "source": [
    "Python’s built-in dictionary data type provides associative array functionality implemented by using hash tables. \n",
    "\n",
    "Built-in len function returns the number of key-value pairs in a dictionary. \n",
    "\n",
    "The del statement can be used to delete a key-value pair. \n",
    "\n",
    "Several dictionary methods (clear, copy, get, items, keys, update, and values) are available."
   ]
  },
  {
   "cell_type": "code",
   "execution_count": 1,
   "metadata": {},
   "outputs": [
    {
     "data": {
      "text/plain": [
       "[1, 2, 'first', ('Delorme', 'Ryan', 1995)]"
      ]
     },
     "execution_count": 1,
     "metadata": {},
     "output_type": "execute_result"
    }
   ],
   "source": [
    "x = {1: \"one\", 2: \"two\"}\n",
    "x[\"first\"] = \"one\"\n",
    "x[(\"Delorme\", \"Ryan\", 1995)] = (1, 2, 3)\n",
    "list(x.keys())"
   ]
  },
  {
   "cell_type": "markdown",
   "metadata": {},
   "source": [
    "Keys must be of an immutable type, including numbers, strings, and tuples. \n",
    "\n",
    "Values can be any kind of object, including mutable types such as lists and dictionaries. "
   ]
  },
  {
   "cell_type": "code",
   "execution_count": 2,
   "metadata": {},
   "outputs": [
    {
     "data": {
      "text/plain": [
       "'one'"
      ]
     },
     "execution_count": 2,
     "metadata": {},
     "output_type": "execute_result"
    }
   ],
   "source": [
    "x[1]"
   ]
  },
  {
   "cell_type": "code",
   "execution_count": 3,
   "metadata": {},
   "outputs": [
    {
     "data": {
      "text/plain": [
       "'one'"
      ]
     },
     "execution_count": 3,
     "metadata": {},
     "output_type": "execute_result"
    }
   ],
   "source": [
    "x.get(1, \"not available\")"
   ]
  },
  {
   "cell_type": "code",
   "execution_count": 4,
   "metadata": {},
   "outputs": [
    {
     "data": {
      "text/plain": [
       "'not available'"
      ]
     },
     "execution_count": 4,
     "metadata": {},
     "output_type": "execute_result"
    }
   ],
   "source": [
    "x.get(4, \"not available\")"
   ]
  },
  {
   "cell_type": "markdown",
   "metadata": {},
   "source": [
    "If you try to access the value of a key that isn’t in the dictionary, a KeyError exception is raised. \n",
    "\n",
    "To avoid this error, the dictionary method **get** optionally returns a user-definable value when a key isn’t in a dictionary."
   ]
  },
  {
   "cell_type": "markdown",
   "metadata": {},
   "source": [
    "# Dictionary comprehension"
   ]
  },
  {
   "cell_type": "code",
   "execution_count": 1,
   "metadata": {},
   "outputs": [
    {
     "data": {
      "text/plain": [
       "{-1: 1, 0: 0, 1: 1}"
      ]
     },
     "execution_count": 1,
     "metadata": {},
     "output_type": "execute_result"
    }
   ],
   "source": [
    "# initialise a dictionary mapping integers -1 to 1 to their squares\n",
    "\n",
    "x = {i: i**2 for i in range(-1, 2)}\n",
    "x"
   ]
  },
  {
   "cell_type": "markdown",
   "metadata": {},
   "source": [
    "# Shopping Cart Calculations"
   ]
  },
  {
   "cell_type": "code",
   "execution_count": 2,
   "metadata": {},
   "outputs": [
    {
     "name": "stdout",
     "output_type": "stream",
     "text": [
      "Would you like to continue shopping? [y/n]: y\n",
      "Available products and prices: {'MacBook 13': 1300, 'MacBook 15': 2100, 'ASUS ROG': 1600}\n",
      "Which product would you like to add to your cart?MacBook 13\n",
      "Would you like to continue shopping? [y/n]: y\n",
      "Available products and prices: {'MacBook 13': 1300, 'MacBook 15': 2100, 'ASUS ROG': 1600}\n",
      "Which product would you like to add to your cart?MacBook 13\n",
      "Would you like to continue shopping? [y/n]: y\n",
      "Available products and prices: {'MacBook 13': 1300, 'MacBook 15': 2100, 'ASUS ROG': 1600}\n",
      "Which product would you like to add to your cart?ASUS ROG\n",
      "Would you like to continue shopping? [y/n]: n\n",
      "Your final cart is:\n",
      "- 2 MacBook 13(s)\n",
      "- 1 ASUS ROG(s)\n",
      "Your final bill is: 4200\n"
     ]
    }
   ],
   "source": [
    "prices = {'MacBook 13': 1300, 'MacBook 15': 2100, 'ASUS ROG': 1600}\n",
    "cart = {}\n",
    "\n",
    "while True:\n",
    "    _continue = input('Would you like to continue shopping? [y/n]: ')\n",
    "    if _continue == 'y':\n",
    "        print(f'Available products and prices: {prices}')\n",
    "        new_item = input('Which product would you like to add to your cart?')\n",
    "        if new_item in prices:\n",
    "            if new_item in cart:\n",
    "                cart[new_item] += 1\n",
    "            else:\n",
    "                cart[new_item] = 1\n",
    "        else:\n",
    "            print('Please choose from available products.')\n",
    "    elif _continue == 'n':\n",
    "        break\n",
    "    else:\n",
    "        print('Please enter y or n')\n",
    "\n",
    "# Calculation of total bill\n",
    "running_sum = 0\n",
    "for item in cart:\n",
    "    running_sum += cart[item] * prices[item]\n",
    "    \n",
    "print(f'Your final cart is:')\n",
    "for item in cart:\n",
    "    print(f'- {cart[item]} {item}(s)')\n",
    "print(f'Your final bill is: {running_sum}')"
   ]
  }
 ],
 "metadata": {
  "kernelspec": {
   "display_name": "Python 3",
   "language": "python",
   "name": "python3"
  },
  "language_info": {
   "codemirror_mode": {
    "name": "ipython",
    "version": 3
   },
   "file_extension": ".py",
   "mimetype": "text/x-python",
   "name": "python",
   "nbconvert_exporter": "python",
   "pygments_lexer": "ipython3",
   "version": "3.8.5"
  }
 },
 "nbformat": 4,
 "nbformat_minor": 4
}
