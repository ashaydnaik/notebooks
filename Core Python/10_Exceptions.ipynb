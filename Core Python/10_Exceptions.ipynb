{
 "cells": [
  {
   "cell_type": "code",
   "execution_count": 2,
   "metadata": {},
   "outputs": [
    {
     "name": "stdout",
     "output_type": "stream",
     "text": [
      "myfile1: could not be opened: No such file or directory\n",
      "Done processing myfile1\n",
      "nonExistent: could not be opened: No such file or directory\n",
      "Done processing nonExistent\n",
      "emptyFile: could not be opened: No such file or directory\n",
      "Done processing emptyFile\n",
      "myfile2: could not be opened: No such file or directory\n",
      "Done processing myfile2\n"
     ]
    }
   ],
   "source": [
    "class EmptyFileError(Exception):\n",
    "    pass\n",
    "filenames = [\"myfile1\", \"nonExistent\", \"emptyFile\", \"myfile2\"]\n",
    "for file in filenames:\n",
    "    try:\n",
    "        f = open(file, 'r')\n",
    "        line = f.readline()\n",
    "        if line == \"\":\n",
    "            f.close()\n",
    "            raise EmptyFileError(\"%s: is empty\" % file)\n",
    "    except IOError as error:\n",
    "        print(\"%s: could not be opened: %s\" % (file, error.strerror))\n",
    "    except EmptyFileError as error:\n",
    "        print(error)\n",
    "    else:\n",
    "        print(\"%s: %s\" % (file, f.readLine()))\n",
    "    finally:\n",
    "        print(\"Done processing\", file)"
   ]
  },
  {
   "cell_type": "markdown",
   "metadata": {},
   "source": [
    "Define your own exception type inheriting from the base Exception type. \n",
    "\n",
    "If an **IOError** or **EmptyFileError** occurs during the execution of the statements in the **try** block, the associated **except** block is executed. \n",
    "\n",
    "The **else** clause is optional; it’s executed if no exception occurs in the try block. <br>\n",
    "(Note that in this example, **continue** statements in the **except** blocks could have been used instead.)\n",
    "\n",
    "The **finally** clause is optional; it’s executed at the end of the block whether an exception was raised or not."
   ]
  },
  {
   "cell_type": "code",
   "execution_count": 3,
   "metadata": {},
   "outputs": [
    {
     "name": "stdout",
     "output_type": "stream",
     "text": [
      "Second line to write to the file\n",
      "\n"
     ]
    }
   ],
   "source": [
    "import os\n",
    "filename = os.path.join(\"output\", \"myfile\")\n",
    "with open(filename, \"r\") as f:\n",
    "    for line in f:\n",
    "        print(f.readline())"
   ]
  },
  {
   "cell_type": "markdown",
   "metadata": {},
   "source": [
    "Here, **with** establishes a context manager which wraps the **open** function and the block that follows. \n",
    "\n",
    "In this case, the context manager’s predefined clean-up action closes the file, even if an exception occurs, so as long as the expression in the first line executes without raising an exception, the file is always closed. "
   ]
  }
 ],
 "metadata": {
  "kernelspec": {
   "display_name": "Python 3",
   "language": "python",
   "name": "python3"
  },
  "language_info": {
   "codemirror_mode": {
    "name": "ipython",
    "version": 3
   },
   "file_extension": ".py",
   "mimetype": "text/x-python",
   "name": "python",
   "nbconvert_exporter": "python",
   "pygments_lexer": "ipython3",
   "version": "3.8.5"
  }
 },
 "nbformat": 4,
 "nbformat_minor": 4
}
